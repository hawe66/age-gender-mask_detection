{
 "cells": [
  {
   "cell_type": "markdown",
   "id": "26e9cea5-f29f-42c1-9fe6-04b38851ec8d",
   "metadata": {
    "tags": []
   },
   "source": [
    "## Import Packages"
   ]
  },
  {
   "cell_type": "code",
   "execution_count": 1,
   "id": "3d194333-4dc3-46de-90b1-7fc2ff9e7ccb",
   "metadata": {
    "tags": []
   },
   "outputs": [],
   "source": [
    "import pandas as pd\n",
    "import numpy as np\n",
    "import matplotlib as mpl\n",
    "from matplotlib import pyplot as plt\n",
    "import sklearn\n",
    "import os\n",
    "import glob\n",
    "from PIL import Image\n",
    "\n",
    "import torch \n",
    "import torch.nn as nn\n",
    "import torch.optim as optim\n",
    "from torchvision import datasets, transforms \n",
    "from torchvision.datasets import ImageFolder\n",
    "from torch.utils.data.dataset import Dataset \n",
    "from tqdm.notebook import tqdm\n",
    "from time import time"
   ]
  },
  {
   "cell_type": "markdown",
   "id": "2fbed6b2-6a53-4cde-b568-57685537604b",
   "metadata": {
    "tags": []
   },
   "source": [
    "## Load paths"
   ]
  },
  {
   "cell_type": "code",
   "execution_count": 4,
   "id": "5b526be9-38ce-44fd-b929-62f57db111ec",
   "metadata": {},
   "outputs": [],
   "source": [
    "# load train path\n",
    "data_train_path = '/opt/ml/input/data/train'\n",
    "\n",
    "# load image paths\n",
    "image_path = os.path.join(data_train_path, 'images')\n",
    "img_paths = glob.glob(image_path+'/00*')\n",
    "\n",
    "# load csv\n",
    "df_train = pd.read_csv(os.path.join(data_train_path, 'train.csv'))"
   ]
  },
  {
   "cell_type": "code",
   "execution_count": 4,
   "id": "e269c774-b257-46e0-9a6d-171e1dfd37f6",
   "metadata": {},
   "outputs": [
    {
     "data": {
      "text/html": [
       "<div>\n",
       "<style scoped>\n",
       "    .dataframe tbody tr th:only-of-type {\n",
       "        vertical-align: middle;\n",
       "    }\n",
       "\n",
       "    .dataframe tbody tr th {\n",
       "        vertical-align: top;\n",
       "    }\n",
       "\n",
       "    .dataframe thead th {\n",
       "        text-align: right;\n",
       "    }\n",
       "</style>\n",
       "<table border=\"1\" class=\"dataframe\">\n",
       "  <thead>\n",
       "    <tr style=\"text-align: right;\">\n",
       "      <th></th>\n",
       "      <th>id</th>\n",
       "      <th>gender</th>\n",
       "      <th>race</th>\n",
       "      <th>age</th>\n",
       "      <th>path</th>\n",
       "    </tr>\n",
       "  </thead>\n",
       "  <tbody>\n",
       "    <tr>\n",
       "      <th>0</th>\n",
       "      <td>000001</td>\n",
       "      <td>female</td>\n",
       "      <td>Asian</td>\n",
       "      <td>45</td>\n",
       "      <td>000001_female_Asian_45</td>\n",
       "    </tr>\n",
       "    <tr>\n",
       "      <th>1</th>\n",
       "      <td>000002</td>\n",
       "      <td>female</td>\n",
       "      <td>Asian</td>\n",
       "      <td>52</td>\n",
       "      <td>000002_female_Asian_52</td>\n",
       "    </tr>\n",
       "    <tr>\n",
       "      <th>2</th>\n",
       "      <td>000004</td>\n",
       "      <td>male</td>\n",
       "      <td>Asian</td>\n",
       "      <td>54</td>\n",
       "      <td>000004_male_Asian_54</td>\n",
       "    </tr>\n",
       "    <tr>\n",
       "      <th>3</th>\n",
       "      <td>000005</td>\n",
       "      <td>female</td>\n",
       "      <td>Asian</td>\n",
       "      <td>58</td>\n",
       "      <td>000005_female_Asian_58</td>\n",
       "    </tr>\n",
       "    <tr>\n",
       "      <th>4</th>\n",
       "      <td>000006</td>\n",
       "      <td>female</td>\n",
       "      <td>Asian</td>\n",
       "      <td>59</td>\n",
       "      <td>000006_female_Asian_59</td>\n",
       "    </tr>\n",
       "  </tbody>\n",
       "</table>\n",
       "</div>"
      ],
      "text/plain": [
       "       id  gender   race  age                    path\n",
       "0  000001  female  Asian   45  000001_female_Asian_45\n",
       "1  000002  female  Asian   52  000002_female_Asian_52\n",
       "2  000004    male  Asian   54    000004_male_Asian_54\n",
       "3  000005  female  Asian   58  000005_female_Asian_58\n",
       "4  000006  female  Asian   59  000006_female_Asian_59"
      ]
     },
     "execution_count": 4,
     "metadata": {},
     "output_type": "execute_result"
    }
   ],
   "source": [
    "df_train.head()"
   ]
  },
  {
   "cell_type": "markdown",
   "id": "b304ba7e-96ad-4416-b3dd-c975c8dea7ba",
   "metadata": {
    "jp-MarkdownHeadingCollapsed": true,
    "tags": []
   },
   "source": [
    "## Load all images"
   ]
  },
  {
   "cell_type": "markdown",
   "id": "59d6c583-9acd-4161-b534-308b33a453a8",
   "metadata": {},
   "source": [
    "For debugging,\n",
    "```{python}\n",
    "imgs = []\n",
    "valid_images = [\".jpg\",\".gif\",\".png\",\".tga\"]\n",
    "\n",
    "for f in glob.glob(img_paths[0] + '/*'):\n",
    "    print(os.path.splitext(f))\n",
    "    ext = os.path.splitext(f)[1]\n",
    "    print(ext)\n",
    "    if ext.lower() not in valid_images:\n",
    "        continue\n",
    "    imgs.append(Image.open(f))\n",
    "print(imgs)\n",
    "```"
   ]
  },
  {
   "cell_type": "code",
   "execution_count": 5,
   "id": "405b038a-c6af-43dd-9a39-32369b8982c3",
   "metadata": {},
   "outputs": [
    {
     "name": "stdout",
     "output_type": "stream",
     "text": [
      "total missing images participatns : 0\n"
     ]
    }
   ],
   "source": [
    "imgs = []\n",
    "valid_images = [\".jpg\",\".png\",\".tga\",\".jpeg\"]\n",
    "\n",
    "j = 0\n",
    "for path in img_paths:\n",
    "    i = 0 \n",
    "    for f in glob.glob(path + '/*'):\n",
    "        ext = os.path.splitext(f)[1]\n",
    "        if ext.lower() not in valid_images:\n",
    "            continue\n",
    "        imgs.append(Image.open(f))\n",
    "        i += 1\n",
    "    if i != 7:\n",
    "        print(f\"missing path {path}, contains only {i} images\")\n",
    "        j += 1\n",
    "print(f\"total missing images participatns : {j}\")"
   ]
  },
  {
   "cell_type": "code",
   "execution_count": 6,
   "id": "d8f814f8-7743-4878-88ee-cf8505207fc6",
   "metadata": {},
   "outputs": [
    {
     "data": {
      "text/plain": [
       "18900"
      ]
     },
     "execution_count": 6,
     "metadata": {},
     "output_type": "execute_result"
    }
   ],
   "source": [
    "# if no missed value, expect 7 * 2700 = 18900\n",
    "len(imgs)"
   ]
  },
  {
   "cell_type": "markdown",
   "id": "fe963918-1cf6-4033-8384-2a969fc3d237",
   "metadata": {
    "tags": []
   },
   "source": [
    "## Dataset setting"
   ]
  },
  {
   "cell_type": "markdown",
   "id": "0915e676-74ac-4ab4-853c-14f06cc1fdf7",
   "metadata": {},
   "source": [
    "we need to load:  \n",
    "  * csv path from `data_train_path` or directly call `df_train`  \n",
    "  * img paths from `df_train` or directly call 18900 images from `imgs` "
   ]
  },
  {
   "cell_type": "markdown",
   "id": "5d309891-5e3b-44fc-8448-0f005d8d555f",
   "metadata": {
    "jp-MarkdownHeadingCollapsed": true,
    "tags": []
   },
   "source": [
    "### Debugging"
   ]
  },
  {
   "cell_type": "code",
   "execution_count": 7,
   "id": "3b7d9e13-960d-4944-abd6-b2beeac17825",
   "metadata": {},
   "outputs": [
    {
     "data": {
      "text/plain": [
       "array(['000001_female_Asian_45', '000002_female_Asian_52',\n",
       "       '000004_male_Asian_54', ..., '006956_male_Asian_19',\n",
       "       '006957_male_Asian_20', '006959_male_Asian_19'], dtype=object)"
      ]
     },
     "execution_count": 7,
     "metadata": {},
     "output_type": "execute_result"
    }
   ],
   "source": [
    "np.asarray(df_train.iloc[:,-1])"
   ]
  },
  {
   "cell_type": "code",
   "execution_count": 8,
   "id": "7564ef4f-7ead-49fb-9d72-cdd4b3d74ad1",
   "metadata": {},
   "outputs": [
    {
     "data": {
      "text/plain": [
       "2700"
      ]
     },
     "execution_count": 8,
     "metadata": {},
     "output_type": "execute_result"
    }
   ],
   "source": [
    "len(df_train.index)"
   ]
  },
  {
   "cell_type": "code",
   "execution_count": 9,
   "id": "f321142f-021e-440a-9f37-934f1746c051",
   "metadata": {},
   "outputs": [
    {
     "data": {
      "text/plain": [
       "array(['female', 'female', 'male', ..., 'male', 'male', 'male'],\n",
       "      dtype=object)"
      ]
     },
     "execution_count": 9,
     "metadata": {},
     "output_type": "execute_result"
    }
   ],
   "source": [
    "np.asarray(df_train.iloc[:,1])"
   ]
  },
  {
   "cell_type": "code",
   "execution_count": 10,
   "id": "b2c365f3-c413-489e-abd3-713d8cef8090",
   "metadata": {},
   "outputs": [
    {
     "name": "stdout",
     "output_type": "stream",
     "text": [
      "['./input/data/train/images/003287_female_Asian_19/mask2.jpg', './input/data/train/images/003287_female_Asian_19/incorrect_mask.jpg', './input/data/train/images/003287_female_Asian_19/normal.jpg', './input/data/train/images/003287_female_Asian_19/mask4.jpg', './input/data/train/images/003287_female_Asian_19/mask5.jpg', './input/data/train/images/003287_female_Asian_19/mask1.jpg', './input/data/train/images/003287_female_Asian_19/mask3.jpg'] 7\n"
     ]
    }
   ],
   "source": [
    "i4s = glob.glob(img_paths[4] + '/*')\n",
    "print(i4s, len(i4s))"
   ]
  },
  {
   "cell_type": "code",
   "execution_count": 11,
   "id": "a62a77f2-6b7c-4f30-9639-f3307cb93007",
   "metadata": {},
   "outputs": [
    {
     "name": "stdout",
     "output_type": "stream",
     "text": [
      "6\n"
     ]
    }
   ],
   "source": [
    "image = i4s[1]\n",
    "image = image.split('/')[-1]\n",
    "image\n",
    "if 'incorrect' in image:\n",
    "    print(6)\n",
    "elif 'normal' in image:\n",
    "    print(12)\n",
    "else:\n",
    "    print(0)"
   ]
  },
  {
   "cell_type": "code",
   "execution_count": 12,
   "id": "5b06a4c2-993b-4469-8d28-bcfdf0f7e0ae",
   "metadata": {},
   "outputs": [
    {
     "data": {
      "text/plain": [
       "array([1, 1, 1, ..., 0, 0, 0])"
      ]
     },
     "execution_count": 12,
     "metadata": {},
     "output_type": "execute_result"
    }
   ],
   "source": [
    "f_a = lambda a: 0 if a<30 else (2 if a>=60 else 1)\n",
    "np.array(list(map(f_a, np.asarray(df_train.iloc[:,3]))))"
   ]
  },
  {
   "cell_type": "markdown",
   "id": "f09bcbd9-5cee-495c-93ee-747807cf100b",
   "metadata": {
    "jp-MarkdownHeadingCollapsed": true,
    "tags": []
   },
   "source": [
    "### Dataset "
   ]
  },
  {
   "cell_type": "markdown",
   "id": "934840d5-875f-4854-94d0-d13650596fa5",
   "metadata": {
    "tags": []
   },
   "source": [
    "```{python}\n",
    "class CustomDatasetFromImages(Dataset):\n",
    "    def __init__(self, csv_path):\n",
    "        \"\"\"\n",
    "        Args:\n",
    "            csv_path (string): path to csv file\n",
    "            img_path (string): path to the folder where images are\n",
    "            transform: pytorch transforms for transforms and tensor conversion\n",
    "        \"\"\"\n",
    "        self.csv_path = csv_path\n",
    "        # Transforms\n",
    "        self.to_tensor = transforms.ToTensor()\n",
    "        # Read the csv file\n",
    "        self.data_info = pd.read_csv(os.path.join(csv_path,'train.csv'))\n",
    "        # Last column contains the image paths\n",
    "        self.image_arr = np.asarray(self.data_info.iloc[:, -1])        \n",
    "        # Second column is the gender labels\n",
    "        f_g = lambda g: 3 if g == 'female' else 0\n",
    "        self.gender_arr = np.array(list(map(f_g, np.asarray(self.data_info.iloc[:, 1]))))\n",
    "        # Fourth column is the age labels\n",
    "        f_a = lambda a: a // 30\n",
    "        self.age_arr = np.array(list(map(f_a, np.asarray(self.data_info.iloc[:, 3]))))\n",
    "        # Calculate len\n",
    "        # index starts with index name (cuz I set header=None ...)\n",
    "        self.data_len = len(self.data_info.index) * 7\n",
    "        self.classes = 18\n",
    "        self._repr_indent = 4\n",
    "\n",
    "    def __getitem__(self, index):\n",
    "        # Each participant has 7 images\n",
    "        index, mask = index // 7, index % 7\n",
    "        ########## print(index, mask)\n",
    "        # Get info from the pandas df\n",
    "        image_path = self.csv_path + '/images/' + self.image_arr[index]\n",
    "        ########## print(image_path)\n",
    "        gender     = self.gender_arr[index]\n",
    "        age        = self.age_arr[index]\n",
    "        # Get single image from mask index\n",
    "        images = glob.glob(image_path + '/*')\n",
    "        ########## print(images)\n",
    "        image = images[mask]\n",
    "        if 'incorrect' in image:\n",
    "            image_label = 6\n",
    "        elif 'normal' in image:\n",
    "            image_label = 12\n",
    "        else:\n",
    "            image_label = 0\n",
    "        # Open image\n",
    "        img_as_img = Image.open(image)\n",
    "        # Transform image to tensor\n",
    "        img_as_tensor = self.to_tensor(img_as_img)\n",
    "\n",
    "        # Get label(class) of the image based on the cropped pandas column\n",
    "        # Vanilla version (allocate 18 classes)\n",
    "        single_image_label = image_label + gender + age\n",
    "\n",
    "        return (img_as_tensor, single_image_label)\n",
    "\n",
    "    def __len__(self):\n",
    "        return self.data_len\n",
    "    \n",
    "    def __repr__(self):\n",
    "        '''\n",
    "        https://github.com/pytorch/vision/blob/master/torchvision/datasets/vision.py\n",
    "        '''\n",
    "        head = \"Custom Dataset : Mask\"\n",
    "        data_path = self._repr_indent*\" \" + \"Data path: {}\".format(self.csv_path)\n",
    "        num_data = self._repr_indent*\" \" + \"Number of datapoints: {}\".format(self.__len__())\n",
    "        num_classes = self._repr_indent*\" \" + \"Number of classes: {}\".format(self.classes)\n",
    "\n",
    "        return '\\n'.join([head,\n",
    "                          data_path,\n",
    "                          num_data, num_classes])\n",
    "```"
   ]
  },
  {
   "cell_type": "code",
   "execution_count": 13,
   "id": "50693932-c0d9-41cf-b6f3-ce56304025fb",
   "metadata": {},
   "outputs": [],
   "source": [
    "# maskdataset = CustomDatasetFromImages(data_train_path)"
   ]
  },
  {
   "cell_type": "code",
   "execution_count": 14,
   "id": "592ebcd4-0a8b-4f6f-a07d-4106f46cadce",
   "metadata": {
    "tags": []
   },
   "outputs": [],
   "source": [
    "# maskdataset"
   ]
  },
  {
   "cell_type": "code",
   "execution_count": 15,
   "id": "fb2d9836-56e9-486c-ac20-babd5247d09c",
   "metadata": {
    "tags": []
   },
   "outputs": [],
   "source": [
    "# maskdataset.__getitem__(0)"
   ]
  },
  {
   "cell_type": "markdown",
   "id": "1e7af5fd-74f4-40af-81d3-29d210c883db",
   "metadata": {
    "tags": []
   },
   "source": [
    "## Dataset statistics"
   ]
  },
  {
   "cell_type": "markdown",
   "id": "66a2df53-a802-4d76-8b0a-49c2d1e12117",
   "metadata": {
    "tags": []
   },
   "source": [
    "```{python}\n",
    "N_CHANNELS = 3 \n",
    "full_loader = torch.utils.data.DataLoader(maskdataset, shuffle=False, num_workers=os.cpu_count())\n",
    "\n",
    "before = time() \n",
    "\n",
    "mean = torch.zeros(N_CHANNELS) \n",
    "std = torch.zeros(N_CHANNELS) \n",
    "\n",
    "print('==> Computing mean and std..') \n",
    "\n",
    "for inputs, _labels in tqdm(full_loader): \n",
    "    for i in range(N_CHANNELS):\n",
    "        mean[i] += inputs[:,i,:,:].mean() \n",
    "        std[i] += inputs[:,i,:,:].std() \n",
    "        mean.div_(len(maskdataset)) \n",
    "        std.div_(len(maskdataset)) \n",
    "\n",
    "print(mean, std) \n",
    "print(\"time elapsed: \", time()-before)\n",
    "\n",
    "# 출처: https://eehoeskrap.tistory.com/463 [Enough is not enough]\n",
    "```"
   ]
  },
  {
   "cell_type": "markdown",
   "id": "554b9ed0-3dab-46dc-b496-21d40e929670",
   "metadata": {},
   "source": [
    "## Split Dataset into training / validation sets\n",
    "  \n",
    "https://deep-learning-study.tistory.com/474"
   ]
  },
  {
   "cell_type": "markdown",
   "id": "b6244ff9-f67a-48cb-b59b-ec985712c99a",
   "metadata": {
    "tags": []
   },
   "source": [
    "```{python}\n",
    "# split the indices of test0_ds into two groups\n",
    "# there aren't validation data in STL10 dataset, so make validation data\n",
    "from sklearn.model_selection import StratifiedShuffleSplit\n",
    "\n",
    "# StratifiedShuffleSplit sample the data in same proportion of labels\n",
    "sss = StratifiedShuffleSplit(n_splits=1, test_size=0.2, random_state=142)\n",
    "\n",
    "indices = list(range(len(maskdataset)))\n",
    "labels = [y for _, y in maskdataset]\n",
    "\n",
    "for train_index, val_index in sss.split(indices, labels):\n",
    "    print('test:', train_index, 'val:', val_index)\n",
    "    print(len(train_index), len(val_index))\n",
    "```"
   ]
  },
  {
   "cell_type": "markdown",
   "id": "5da344bb-7e26-4c2d-88f6-d3d1b31ae3f5",
   "metadata": {},
   "source": [
    "```{python}\n",
    "# create two datasets from test0_ds\n",
    "from torch.utils.data import Subset\n",
    "\n",
    "# if dataset is updated, val_ds and train_ds are updated.\n",
    "maskdataset_val = Subset(maskdataset, val_index)\n",
    "maskdataset_train = Subset(maskdataset, train_index)\n",
    "```"
   ]
  },
  {
   "cell_type": "markdown",
   "id": "bb3baf1d-85fd-48c3-a167-e240678dd19e",
   "metadata": {
    "tags": []
   },
   "source": [
    "## Yonghoon's code\n",
    "  \n",
    "use ImageFolder from torchvision"
   ]
  },
  {
   "cell_type": "code",
   "execution_count": 2,
   "id": "23587430-ad69-4064-bcd2-666cbe20533e",
   "metadata": {},
   "outputs": [],
   "source": [
    "import shutil\n",
    "from collections import Counter"
   ]
  },
  {
   "cell_type": "code",
   "execution_count": 6,
   "id": "23218bbb-d7b4-43dd-aa19-aae8b49136c6",
   "metadata": {},
   "outputs": [],
   "source": [
    "original_dataset_dir = './input/data/train/images'\n",
    "base_dir = './input/data/train/splitted'\n",
    "classes_list = [a for a in range(18)]\n",
    "\n",
    "if not os.path.isdir(base_dir): \n",
    "    os.makedirs(base_dir)\n",
    "\n",
    "for classes in classes_list:\n",
    "    new_folder = os.path.join(base_dir, str(classes))\n",
    "    if not os.path.isdir(new_folder):\n",
    "        os.mkdir(new_folder)\n"
   ]
  },
  {
   "cell_type": "code",
   "execution_count": 18,
   "id": "81f964fe-2067-4bad-84ae-22ebdd4fa472",
   "metadata": {},
   "outputs": [],
   "source": [
    "data_infos = pd.read_csv(\"./input/data/train/train.csv\")\n",
    "counter = {}\n",
    "for i in range(18):\n",
    "    counter[str(i)] = 0\n",
    "\n",
    "for row in data_infos.iterrows():\n",
    "    data_num, data = row[0], row[1]\n",
    "\n",
    "    # 목표 디렉토리 설정\n",
    "    path = os.path.join(original_dataset_dir, data['path'])\n",
    "    # 디렉토리 리스트 가져오기\n",
    "    fnames = glob.glob(path+'/*')\n",
    "\n",
    "    for file in fnames:\n",
    "        target = 0\n",
    "\n",
    "        # 마스크 여부 분류\n",
    "        if 'incorrect' in file:\n",
    "            target += 6\n",
    "        elif 'mask' in file:\n",
    "            target += 0\n",
    "        else: # not wear\n",
    "            target += 12\n",
    "\n",
    "\n",
    "        # 성별 분류\n",
    "        if data['gender'] == 'male':\n",
    "            target += 0\n",
    "        else: # female\n",
    "            target += 3\n",
    "\n",
    "        # 나이 분류\n",
    "        if data['age'] < 30:\n",
    "            target += 0\n",
    "        elif data['age'] >= 60:\n",
    "            target += 2\n",
    "        else: # 30 ~ 60\n",
    "            target += 1\n",
    "        target = str(target)\n",
    "        \n",
    "        if file.split('/')[-1].startswith('.'):\n",
    "            print(file)\n",
    "            raise ValueError\n",
    "        file = file.split('/')[-1]\n",
    "        \n",
    "        src = os.path.join(path, file)\n",
    "        dst = os.path.join(os.path.join(base_dir, str(target)), file)\n",
    "        shutil.copyfile(src, dst)\n",
    "\n",
    "        # 파일 확장자를 추출하기 위해서\n",
    "        name, extension = file.split(\".\") \n",
    "        change_name = os.path.join(os.path.join(base_dir, str(target)), str(counter[str(target)]) + \".\" + extension)\n",
    "        shutil.move(dst, change_name)\n",
    "        counter[target] += 1\n"
   ]
  },
  {
   "cell_type": "code",
   "execution_count": 7,
   "id": "dcdbd9b7-17a7-4d73-9503-de76b4366ab3",
   "metadata": {},
   "outputs": [],
   "source": [
    "dataset = ImageFolder(root=base_dir, transform=transforms.Compose([ transforms.ToTensor(), ])) "
   ]
  },
  {
   "cell_type": "code",
   "execution_count": 8,
   "id": "eef2a9c3-e6e2-4839-8463-aaac4018ee91",
   "metadata": {},
   "outputs": [
    {
     "data": {
      "text/plain": [
       "18902"
      ]
     },
     "execution_count": 8,
     "metadata": {},
     "output_type": "execute_result"
    }
   ],
   "source": [
    "len(dataset)"
   ]
  },
  {
   "cell_type": "code",
   "execution_count": 9,
   "id": "bcb7759d-c7de-4753-a870-51f8c3e007a6",
   "metadata": {},
   "outputs": [
    {
     "name": "stdout",
     "output_type": "stream",
     "text": [
      "test: [18052  4684 10321 ... 16705   222  7670] val: [12223 13743 10256 ...  1723  8816 10723]\n",
      "15121 3781\n"
     ]
    }
   ],
   "source": [
    "# split the indices of test0_ds into two groups\n",
    "# there aren't validation data in STL10 dataset, so make validation data\n",
    "from sklearn.model_selection import StratifiedShuffleSplit\n",
    "\n",
    "# StratifiedShuffleSplit sample the data in same proportion of labels\n",
    "sss = StratifiedShuffleSplit(n_splits=1, test_size=0.2, random_state=142)\n",
    "\n",
    "indices = list(range(len(dataset)))\n",
    "labels = [y for _, y in dataset]\n",
    "\n",
    "for train_index, val_index in sss.split(indices, labels):\n",
    "    print('train:', train_index, 'val:', val_index)\n",
    "    print(len(train_index), len(val_index))"
   ]
  },
  {
   "cell_type": "code",
   "execution_count": 20,
   "id": "1ce7c398-37ea-408d-b0fa-6d9008629ea7",
   "metadata": {},
   "outputs": [],
   "source": [
    "# create two datasets from test0_ds\n",
    "from torch.utils.data import Subset\n",
    "\n",
    "# if dataset is updated, val_ds and train_ds are updated.\n",
    "train_dataset = Subset(dataset, train_index)\n",
    "val_dataset   = Subset(dataset, val_index)\n",
    "\n",
    "train_loader = torch.utils.data.DataLoader(train_dataset, batch_size=128, shuffle=True, num_workers=0)\n",
    "val_loader = torch.utils.data.DataLoader(val_dataset, batch_size=128, shuffle=True, num_workers=0)\n",
    "\n",
    "# 출처: https://ndb796.tistory.com/373 [안경잡이개발자]"
   ]
  },
  {
   "cell_type": "markdown",
   "id": "a157cdfe-34b8-41d6-b0f7-9617a50960a2",
   "metadata": {},
   "source": [
    "# Merge Backbone!\n",
    "  \n",
    "1. DataLoader  \n",
    "2. Pre-trained model  \n",
    "3. Train  "
   ]
  },
  {
   "cell_type": "markdown",
   "id": "7ff0ccab-4db0-4c66-a18a-4268dc1fdad1",
   "metadata": {
    "tags": []
   },
   "source": [
    "## Import pre-trained model\n",
    "  \n",
    "load resnet18  \n",
    "freeze CNN backbone layers  \n",
    "change fully connected layer to classifty 18 labels  "
   ]
  },
  {
   "cell_type": "code",
   "execution_count": 5,
   "id": "9af473cc-ddb6-45f7-b927-3c5b697e9881",
   "metadata": {},
   "outputs": [],
   "source": [
    "from torchsummary import summary\n",
    "from torchvision import utils\n",
    "import torchvision.models as models"
   ]
  },
  {
   "cell_type": "code",
   "execution_count": 6,
   "id": "e2d2601f-5a4e-42b5-9143-e66fe9eeec5b",
   "metadata": {},
   "outputs": [],
   "source": [
    "resnet18_pretrained = models.resnet18(pretrained=False)"
   ]
  },
  {
   "cell_type": "code",
   "execution_count": 7,
   "id": "e24352b7-4c69-4996-b4b5-784d7c6b7773",
   "metadata": {},
   "outputs": [
    {
     "name": "stdout",
     "output_type": "stream",
     "text": [
      "Collecting hickle\n",
      "  Downloading hickle-4.0.4-py3-none-any.whl (49 kB)\n",
      "\u001b[K     |████████████████████████████████| 49 kB 6.4 MB/s  eta 0:00:01\n",
      "\u001b[?25hCollecting dill>=0.3.0\n",
      "  Downloading dill-0.3.4-py2.py3-none-any.whl (86 kB)\n",
      "\u001b[K     |████████████████████████████████| 86 kB 6.4 MB/s  eta 0:00:01\n",
      "\u001b[?25hRequirement already satisfied: six>=1.11.0 in /opt/conda/lib/python3.8/site-packages (from hickle) (1.15.0)\n",
      "Requirement already satisfied: numpy>=1.8 in /opt/conda/lib/python3.8/site-packages (from hickle) (1.22.2)\n",
      "Collecting h5py<3.0.0,>=2.8.0\n",
      "  Downloading h5py-2.10.0-cp38-cp38-manylinux1_x86_64.whl (2.9 MB)\n",
      "\u001b[K     |████████████████████████████████| 2.9 MB 37.4 MB/s eta 0:00:01\n",
      "\u001b[?25hInstalling collected packages: dill, h5py, hickle\n",
      "Successfully installed dill-0.3.4 h5py-2.10.0 hickle-4.0.4\n"
     ]
    }
   ],
   "source": [
    "!pip install hickle"
   ]
  },
  {
   "cell_type": "code",
   "execution_count": 11,
   "id": "167e010c-8c9f-47fe-8544-a9b93120b136",
   "metadata": {},
   "outputs": [
    {
     "name": "stdout",
     "output_type": "stream",
     "text": [
      "Collecting helpers\n",
      "  Downloading helpers-0.2.0-py3-none-any.whl (2.3 kB)\n",
      "Installing collected packages: helpers\n",
      "Successfully installed helpers-0.2.0\n",
      "Requirement already satisfied: h5py in /opt/conda/lib/python3.8/site-packages (2.10.0)\n",
      "Requirement already satisfied: numpy>=1.7 in /opt/conda/lib/python3.8/site-packages (from h5py) (1.22.2)\n",
      "Requirement already satisfied: six in /opt/conda/lib/python3.8/site-packages (from h5py) (1.15.0)\n"
     ]
    }
   ],
   "source": [
    "!pip install helpers\n",
    "!pip install h5py"
   ]
  },
  {
   "cell_type": "code",
   "execution_count": 34,
   "id": "2f809184-925b-453d-9293-2ccc65f17e1e",
   "metadata": {},
   "outputs": [],
   "source": [
    "h5_file.close()"
   ]
  },
  {
   "cell_type": "code",
   "execution_count": 37,
   "id": "4a418d3a-5d53-4640-8374-79935e7047b8",
   "metadata": {},
   "outputs": [
    {
     "name": "stdout",
     "output_type": "stream",
     "text": [
      "<HDF5 file \"age_only_resnet50_weights.061-3.300-4.410.hdf5\" (mode r)>\n"
     ]
    }
   ],
   "source": [
    "import h5py\n",
    "with h5py.File('age_only_resnet50_weights.061-3.300-4.410.hdf5', 'r') as h5_file:\n",
    "    print(h5_file)\n",
    "    for gname, group in h5_file.items():\n",
    "        print(gname,group)\n",
    "        for dname, ds in group.items():\n",
    "            print(dname,ds)"
   ]
  },
  {
   "cell_type": "code",
   "execution_count": 26,
   "id": "fe7c4e22-db51-4dcb-aa1e-5490bf5ef551",
   "metadata": {
    "tags": []
   },
   "outputs": [
    {
     "name": "stdout",
     "output_type": "stream",
     "text": [
      "conv1.weight\n",
      "bn1.weight\n",
      "bn1.bias\n",
      "layer1.0.conv1.weight\n",
      "layer1.0.bn1.weight\n",
      "layer1.0.bn1.bias\n",
      "layer1.0.conv2.weight\n",
      "layer1.0.bn2.weight\n",
      "layer1.0.bn2.bias\n",
      "layer1.1.conv1.weight\n",
      "layer1.1.bn1.weight\n",
      "layer1.1.bn1.bias\n",
      "layer1.1.conv2.weight\n",
      "layer1.1.bn2.weight\n",
      "layer1.1.bn2.bias\n",
      "layer2.0.conv1.weight\n",
      "layer2.0.bn1.weight\n",
      "layer2.0.bn1.bias\n",
      "layer2.0.conv2.weight\n",
      "layer2.0.bn2.weight\n",
      "layer2.0.bn2.bias\n",
      "layer2.0.downsample.0.weight\n",
      "layer2.0.downsample.1.weight\n",
      "layer2.0.downsample.1.bias\n",
      "layer2.1.conv1.weight\n",
      "layer2.1.bn1.weight\n",
      "layer2.1.bn1.bias\n",
      "layer2.1.conv2.weight\n",
      "layer2.1.bn2.weight\n",
      "layer2.1.bn2.bias\n",
      "layer3.0.conv1.weight\n",
      "layer3.0.bn1.weight\n",
      "layer3.0.bn1.bias\n",
      "layer3.0.conv2.weight\n",
      "layer3.0.bn2.weight\n",
      "layer3.0.bn2.bias\n",
      "layer3.0.downsample.0.weight\n",
      "layer3.0.downsample.1.weight\n",
      "layer3.0.downsample.1.bias\n",
      "layer3.1.conv1.weight\n",
      "layer3.1.bn1.weight\n",
      "layer3.1.bn1.bias\n",
      "layer3.1.conv2.weight\n",
      "layer3.1.bn2.weight\n",
      "layer3.1.bn2.bias\n",
      "layer4.0.conv1.weight\n",
      "layer4.0.bn1.weight\n",
      "layer4.0.bn1.bias\n",
      "layer4.0.conv2.weight\n",
      "layer4.0.bn2.weight\n",
      "layer4.0.bn2.bias\n",
      "layer4.0.downsample.0.weight\n",
      "layer4.0.downsample.1.weight\n",
      "layer4.0.downsample.1.bias\n",
      "layer4.1.conv1.weight\n",
      "layer4.1.bn1.weight\n",
      "layer4.1.bn1.bias\n",
      "layer4.1.conv2.weight\n",
      "layer4.1.bn2.weight\n",
      "layer4.1.bn2.bias\n",
      "fc.weight\n",
      "fc.bias\n"
     ]
    }
   ],
   "source": [
    "for param_name, _ in resnet18_pretrained.named_parameters(): \n",
    "    print(param_name)"
   ]
  },
  {
   "cell_type": "code",
   "execution_count": 27,
   "id": "b174b0d5-2ffd-4712-b771-45bb59cf10d9",
   "metadata": {
    "tags": []
   },
   "outputs": [
    {
     "name": "stdout",
     "output_type": "stream",
     "text": [
      "=============0================\n",
      "Conv2d(3, 64, kernel_size=(7, 7), stride=(2, 2), padding=(3, 3), bias=False)\n",
      "=============1================\n",
      "BatchNorm2d(64, eps=1e-05, momentum=0.1, affine=True, track_running_stats=True)\n",
      "=============2================\n",
      "ReLU(inplace=True)\n",
      "=============3================\n",
      "MaxPool2d(kernel_size=3, stride=2, padding=1, dilation=1, ceil_mode=False)\n",
      "=============4================\n",
      "Sequential(\n",
      "  (0): BasicBlock(\n",
      "    (conv1): Conv2d(64, 64, kernel_size=(3, 3), stride=(1, 1), padding=(1, 1), bias=False)\n",
      "    (bn1): BatchNorm2d(64, eps=1e-05, momentum=0.1, affine=True, track_running_stats=True)\n",
      "    (relu): ReLU(inplace=True)\n",
      "    (conv2): Conv2d(64, 64, kernel_size=(3, 3), stride=(1, 1), padding=(1, 1), bias=False)\n",
      "    (bn2): BatchNorm2d(64, eps=1e-05, momentum=0.1, affine=True, track_running_stats=True)\n",
      "  )\n",
      "  (1): BasicBlock(\n",
      "    (conv1): Conv2d(64, 64, kernel_size=(3, 3), stride=(1, 1), padding=(1, 1), bias=False)\n",
      "    (bn1): BatchNorm2d(64, eps=1e-05, momentum=0.1, affine=True, track_running_stats=True)\n",
      "    (relu): ReLU(inplace=True)\n",
      "    (conv2): Conv2d(64, 64, kernel_size=(3, 3), stride=(1, 1), padding=(1, 1), bias=False)\n",
      "    (bn2): BatchNorm2d(64, eps=1e-05, momentum=0.1, affine=True, track_running_stats=True)\n",
      "  )\n",
      ")\n",
      "=============5================\n",
      "Sequential(\n",
      "  (0): BasicBlock(\n",
      "    (conv1): Conv2d(64, 128, kernel_size=(3, 3), stride=(2, 2), padding=(1, 1), bias=False)\n",
      "    (bn1): BatchNorm2d(128, eps=1e-05, momentum=0.1, affine=True, track_running_stats=True)\n",
      "    (relu): ReLU(inplace=True)\n",
      "    (conv2): Conv2d(128, 128, kernel_size=(3, 3), stride=(1, 1), padding=(1, 1), bias=False)\n",
      "    (bn2): BatchNorm2d(128, eps=1e-05, momentum=0.1, affine=True, track_running_stats=True)\n",
      "    (downsample): Sequential(\n",
      "      (0): Conv2d(64, 128, kernel_size=(1, 1), stride=(2, 2), bias=False)\n",
      "      (1): BatchNorm2d(128, eps=1e-05, momentum=0.1, affine=True, track_running_stats=True)\n",
      "    )\n",
      "  )\n",
      "  (1): BasicBlock(\n",
      "    (conv1): Conv2d(128, 128, kernel_size=(3, 3), stride=(1, 1), padding=(1, 1), bias=False)\n",
      "    (bn1): BatchNorm2d(128, eps=1e-05, momentum=0.1, affine=True, track_running_stats=True)\n",
      "    (relu): ReLU(inplace=True)\n",
      "    (conv2): Conv2d(128, 128, kernel_size=(3, 3), stride=(1, 1), padding=(1, 1), bias=False)\n",
      "    (bn2): BatchNorm2d(128, eps=1e-05, momentum=0.1, affine=True, track_running_stats=True)\n",
      "  )\n",
      ")\n",
      "=============6================\n",
      "Sequential(\n",
      "  (0): BasicBlock(\n",
      "    (conv1): Conv2d(128, 256, kernel_size=(3, 3), stride=(2, 2), padding=(1, 1), bias=False)\n",
      "    (bn1): BatchNorm2d(256, eps=1e-05, momentum=0.1, affine=True, track_running_stats=True)\n",
      "    (relu): ReLU(inplace=True)\n",
      "    (conv2): Conv2d(256, 256, kernel_size=(3, 3), stride=(1, 1), padding=(1, 1), bias=False)\n",
      "    (bn2): BatchNorm2d(256, eps=1e-05, momentum=0.1, affine=True, track_running_stats=True)\n",
      "    (downsample): Sequential(\n",
      "      (0): Conv2d(128, 256, kernel_size=(1, 1), stride=(2, 2), bias=False)\n",
      "      (1): BatchNorm2d(256, eps=1e-05, momentum=0.1, affine=True, track_running_stats=True)\n",
      "    )\n",
      "  )\n",
      "  (1): BasicBlock(\n",
      "    (conv1): Conv2d(256, 256, kernel_size=(3, 3), stride=(1, 1), padding=(1, 1), bias=False)\n",
      "    (bn1): BatchNorm2d(256, eps=1e-05, momentum=0.1, affine=True, track_running_stats=True)\n",
      "    (relu): ReLU(inplace=True)\n",
      "    (conv2): Conv2d(256, 256, kernel_size=(3, 3), stride=(1, 1), padding=(1, 1), bias=False)\n",
      "    (bn2): BatchNorm2d(256, eps=1e-05, momentum=0.1, affine=True, track_running_stats=True)\n",
      "  )\n",
      ")\n",
      "=============7================\n",
      "Sequential(\n",
      "  (0): BasicBlock(\n",
      "    (conv1): Conv2d(256, 512, kernel_size=(3, 3), stride=(2, 2), padding=(1, 1), bias=False)\n",
      "    (bn1): BatchNorm2d(512, eps=1e-05, momentum=0.1, affine=True, track_running_stats=True)\n",
      "    (relu): ReLU(inplace=True)\n",
      "    (conv2): Conv2d(512, 512, kernel_size=(3, 3), stride=(1, 1), padding=(1, 1), bias=False)\n",
      "    (bn2): BatchNorm2d(512, eps=1e-05, momentum=0.1, affine=True, track_running_stats=True)\n",
      "    (downsample): Sequential(\n",
      "      (0): Conv2d(256, 512, kernel_size=(1, 1), stride=(2, 2), bias=False)\n",
      "      (1): BatchNorm2d(512, eps=1e-05, momentum=0.1, affine=True, track_running_stats=True)\n",
      "    )\n",
      "  )\n",
      "  (1): BasicBlock(\n",
      "    (conv1): Conv2d(512, 512, kernel_size=(3, 3), stride=(1, 1), padding=(1, 1), bias=False)\n",
      "    (bn1): BatchNorm2d(512, eps=1e-05, momentum=0.1, affine=True, track_running_stats=True)\n",
      "    (relu): ReLU(inplace=True)\n",
      "    (conv2): Conv2d(512, 512, kernel_size=(3, 3), stride=(1, 1), padding=(1, 1), bias=False)\n",
      "    (bn2): BatchNorm2d(512, eps=1e-05, momentum=0.1, affine=True, track_running_stats=True)\n",
      "  )\n",
      ")\n",
      "=============8================\n",
      "AdaptiveAvgPool2d(output_size=(1, 1))\n",
      "=============9================\n",
      "Linear(in_features=512, out_features=1000, bias=True)\n"
     ]
    }
   ],
   "source": [
    "for i, param_name in enumerate(resnet18_pretrained.children()):\n",
    "    print(f\"============={i}================\")\n",
    "    print(param_name)"
   ]
  },
  {
   "cell_type": "code",
   "execution_count": 13,
   "id": "17d8079f-4028-46d7-8d9f-eb93549d7f58",
   "metadata": {},
   "outputs": [],
   "source": [
    "# change the output layer to 10 classes\n",
    "num_classes = 18\n",
    "num_ftrs = resnet18_pretrained.fc.in_features\n",
    "resnet18_pretrained.fc = torch.nn.Linear(num_ftrs, num_classes)"
   ]
  },
  {
   "cell_type": "code",
   "execution_count": 14,
   "id": "6f091b91-4edc-43c1-ba17-59f317f9df40",
   "metadata": {},
   "outputs": [],
   "source": [
    "for i, param_name in enumerate(resnet18_pretrained.children()):\n",
    "    if i != 9:\n",
    "        param_name.requires_grad = False"
   ]
  },
  {
   "cell_type": "markdown",
   "id": "dd0a3166-1991-4137-bee3-eb056d384686",
   "metadata": {},
   "source": [
    "## Train!"
   ]
  },
  {
   "cell_type": "code",
   "execution_count": 15,
   "id": "f3634501-63e0-4e6b-bbe3-608e136bf8ab",
   "metadata": {},
   "outputs": [],
   "source": [
    "loss = nn.CrossEntropyLoss()\n",
    "optm = optim.Adam(resnet18_pretrained.parameters(),lr=1e-3)\n",
    "device = torch.device('cuda:0' if torch.cuda.is_available() else 'cpu')"
   ]
  },
  {
   "cell_type": "code",
   "execution_count": 16,
   "id": "86962fad-3e84-48a4-9bcb-08f6d2b8434c",
   "metadata": {},
   "outputs": [
    {
     "data": {
      "text/plain": [
       "device(type='cuda', index=0)"
      ]
     },
     "execution_count": 16,
     "metadata": {},
     "output_type": "execute_result"
    }
   ],
   "source": [
    "device"
   ]
  },
  {
   "cell_type": "code",
   "execution_count": 17,
   "id": "c0e2df1c-b632-44f7-9437-c230a4569f6b",
   "metadata": {},
   "outputs": [
    {
     "name": "stdout",
     "output_type": "stream",
     "text": [
      "Done\n"
     ]
    }
   ],
   "source": [
    "def func_eval(model,data_iter,device):\n",
    "    with torch.no_grad():\n",
    "        n_total,n_correct = 0,0\n",
    "        model.eval() # evaluate (affects DropOut and BN)\n",
    "        for batch_in,batch_out in data_iter:\n",
    "            y_trgt = batch_out.to(device)\n",
    "            model_pred = model(batch_in.to(device))\n",
    "            _,y_pred = torch.max(model_pred.data,1)\n",
    "            n_correct += (y_pred==y_trgt).sum().item()\n",
    "            n_total += batch_in.size(0)\n",
    "        val_accr = (n_correct/n_total)\n",
    "        model.train() # back to train mode \n",
    "    return val_accr\n",
    "print (\"Done\")"
   ]
  },
  {
   "cell_type": "code",
   "execution_count": 21,
   "id": "400d2983-16ec-40ae-a7cf-149bd0eae397",
   "metadata": {},
   "outputs": [
    {
     "name": "stdout",
     "output_type": "stream",
     "text": [
      "Start training.\n"
     ]
    },
    {
     "ename": "TypeError",
     "evalue": "'module' object is not callable",
     "output_type": "error",
     "traceback": [
      "\u001b[0;31m---------------------------------------------------------------------------\u001b[0m",
      "\u001b[0;31mTypeError\u001b[0m                                 Traceback (most recent call last)",
      "\u001b[0;32m<ipython-input-23-cb0de0f64b39>\u001b[0m in \u001b[0;36m<module>\u001b[0;34m\u001b[0m\n\u001b[1;32m      4\u001b[0m \u001b[0mresnet18_pretrained\u001b[0m\u001b[0;34m.\u001b[0m\u001b[0mtrain\u001b[0m\u001b[0;34m(\u001b[0m\u001b[0;34m)\u001b[0m \u001b[0;31m# to train mode\u001b[0m\u001b[0;34m\u001b[0m\u001b[0;34m\u001b[0m\u001b[0m\n\u001b[1;32m      5\u001b[0m \u001b[0mEPOCHS\u001b[0m\u001b[0;34m,\u001b[0m\u001b[0mprint_every\u001b[0m \u001b[0;34m=\u001b[0m \u001b[0;36m10\u001b[0m\u001b[0;34m,\u001b[0m\u001b[0;36m1\u001b[0m\u001b[0;34m\u001b[0m\u001b[0;34m\u001b[0m\u001b[0m\n\u001b[0;32m----> 6\u001b[0;31m \u001b[0;32mfor\u001b[0m \u001b[0mepoch\u001b[0m \u001b[0;32min\u001b[0m \u001b[0mtqdm\u001b[0m\u001b[0;34m(\u001b[0m\u001b[0mrange\u001b[0m\u001b[0;34m(\u001b[0m\u001b[0mEPOCHS\u001b[0m\u001b[0;34m)\u001b[0m\u001b[0;34m)\u001b[0m\u001b[0;34m:\u001b[0m\u001b[0;34m\u001b[0m\u001b[0;34m\u001b[0m\u001b[0m\n\u001b[0m\u001b[1;32m      7\u001b[0m     \u001b[0mloss_val_sum\u001b[0m \u001b[0;34m=\u001b[0m \u001b[0;36m0\u001b[0m\u001b[0;34m\u001b[0m\u001b[0;34m\u001b[0m\u001b[0m\n\u001b[1;32m      8\u001b[0m     \u001b[0;32mfor\u001b[0m \u001b[0mbatch_in\u001b[0m\u001b[0;34m,\u001b[0m\u001b[0mbatch_out\u001b[0m \u001b[0;32min\u001b[0m \u001b[0mtrain_loader\u001b[0m\u001b[0;34m:\u001b[0m\u001b[0;34m\u001b[0m\u001b[0;34m\u001b[0m\u001b[0m\n",
      "\u001b[0;31mTypeError\u001b[0m: 'module' object is not callable"
     ]
    }
   ],
   "source": [
    "print (\"Start training.\")\n",
    "resnet18_pretrained.to(device)\n",
    "resnet18_pretrained.train() # to train mode \n",
    "EPOCHS,print_every = 10,1\n",
    "for epoch in range(EPOCHS):\n",
    "    loss_val_sum = 0\n",
    "    for batch_in,batch_out in train_loader:\n",
    "        # Forward path\n",
    "        # view(-1,3,512,384).\n",
    "        y_pred = resnet18_pretrained.forward(batch_in.to(device))\n",
    "        loss_out = loss(y_pred,batch_out.to(device))\n",
    "        # Update\n",
    "        optm.zero_grad()     # reset gradient \n",
    "        loss_out.backward()  # backpropagate\n",
    "        optm.step()          # optimizer update\n",
    "        loss_val_sum += loss_out\n",
    "    loss_val_avg = loss_val_sum/len(train_loader)\n",
    "    # Print\n",
    "    if ((epoch%print_every)==0) or (epoch==(EPOCHS-1)):\n",
    "        train_accr = func_eval(resnet18_pretrained,train_loader,device)\n",
    "        val_accr = func_eval(resnet18_pretrained,val_loader,device)\n",
    "        print (\"epoch:[%d] loss:[%.3f] train_accr:[%.3f] val_accr:[%.3f].\"%\n",
    "               (epoch,loss_val_avg,train_accr,val_accr))\n",
    "print (\"Done\")"
   ]
  },
  {
   "cell_type": "code",
   "execution_count": 36,
   "id": "486fbfb8-d8ca-4904-b309-da05249b91a1",
   "metadata": {
    "collapsed": true,
    "jupyter": {
     "outputs_hidden": true
    },
    "tags": []
   },
   "outputs": [
    {
     "ename": "NameError",
     "evalue": "name 'skl' is not defined",
     "output_type": "error",
     "traceback": [
      "\u001b[0;31m---------------------------------------------------------------------------\u001b[0m",
      "\u001b[0;31mNameError\u001b[0m                                 Traceback (most recent call last)",
      "\u001b[0;32m<ipython-input-36-f5a272a36aa5>\u001b[0m in \u001b[0;36m<module>\u001b[0;34m\u001b[0m\n\u001b[1;32m     42\u001b[0m     \u001b[0myhatlabel\u001b[0m \u001b[0;34m=\u001b[0m \u001b[0mnp\u001b[0m\u001b[0;34m.\u001b[0m\u001b[0mconcatenate\u001b[0m\u001b[0;34m(\u001b[0m\u001b[0;34m(\u001b[0m\u001b[0myhatlabel\u001b[0m\u001b[0;34m,\u001b[0m \u001b[0mpredicted\u001b[0m\u001b[0;34m.\u001b[0m\u001b[0mcpu\u001b[0m\u001b[0;34m(\u001b[0m\u001b[0;34m)\u001b[0m\u001b[0;34m.\u001b[0m\u001b[0mnumpy\u001b[0m\u001b[0;34m(\u001b[0m\u001b[0;34m)\u001b[0m\u001b[0;34m)\u001b[0m\u001b[0;34m)\u001b[0m\u001b[0;34m\u001b[0m\u001b[0;34m\u001b[0m\u001b[0m\n\u001b[1;32m     43\u001b[0m \u001b[0;31m# Compute confusion matrix\u001b[0m\u001b[0;34m\u001b[0m\u001b[0;34m\u001b[0m\u001b[0;34m\u001b[0m\u001b[0m\n\u001b[0;32m---> 44\u001b[0;31m \u001b[0mcnf_matrix\u001b[0m \u001b[0;34m=\u001b[0m \u001b[0mskl\u001b[0m\u001b[0;34m.\u001b[0m\u001b[0mconfusion_matrix\u001b[0m\u001b[0;34m(\u001b[0m\u001b[0mylabel\u001b[0m\u001b[0;34m,\u001b[0m \u001b[0myhatlabel\u001b[0m\u001b[0;34m)\u001b[0m\u001b[0;34m\u001b[0m\u001b[0;34m\u001b[0m\u001b[0m\n\u001b[0m\u001b[1;32m     45\u001b[0m \u001b[0mnp\u001b[0m\u001b[0;34m.\u001b[0m\u001b[0mset_printoptions\u001b[0m\u001b[0;34m(\u001b[0m\u001b[0mprecision\u001b[0m\u001b[0;34m=\u001b[0m\u001b[0;36m2\u001b[0m\u001b[0;34m)\u001b[0m\u001b[0;34m\u001b[0m\u001b[0;34m\u001b[0m\u001b[0m\n\u001b[1;32m     46\u001b[0m \u001b[0mis_correct\u001b[0m \u001b[0;34m=\u001b[0m \u001b[0;34m(\u001b[0m\u001b[0mylabel\u001b[0m \u001b[0;34m==\u001b[0m \u001b[0myhatlabel\u001b[0m\u001b[0;34m)\u001b[0m\u001b[0;34m\u001b[0m\u001b[0;34m\u001b[0m\u001b[0m\n",
      "\u001b[0;31mNameError\u001b[0m: name 'skl' is not defined"
     ]
    }
   ],
   "source": [
    "def plot_confusion_matrix(cm, classes,normalize=False,title='Confusion matrix',cmap=plt.cm.Blues):\n",
    "    \"\"\"\n",
    "    This function prints and plots the confusion matrix.\n",
    "    Normalization can be applied by setting `normalize=True`.\n",
    "    \"\"\"\n",
    "    if normalize:\n",
    "        cm = cm.astype('float') / cm.sum(axis=1)[:, np.newaxis]\n",
    "        print(\"Normalized confusion matrix\")\n",
    "    else:\n",
    "        print('Confusion matrix, without normalization')\n",
    "\n",
    "    #print(cm)\n",
    "\n",
    "    plt.imshow(cm, interpolation='nearest', cmap=cmap)\n",
    "    plt.title(title)\n",
    "    plt.colorbar()\n",
    "    tick_marks = np.arange(len(classes))\n",
    "    plt.xticks(tick_marks, classes, rotation=45)\n",
    "    plt.yticks(tick_marks, classes)\n",
    "\n",
    "    fmt = '.2f' if normalize else 'd'\n",
    "    thresh = cm.max() / 2.\n",
    "\n",
    "    for i in range(cm.shape[0]):\n",
    "        for j in range(cm.shape[1]):\n",
    "            plt.text(j, i, format(cm[i, j], fmt),horizontalalignment=\"center\",color=\"white\" if cm[i, j] > thresh else \"black\")\n",
    "\n",
    "    plt.tight_layout()\n",
    "    plt.ylabel('True label')\n",
    "    plt.xlabel('Predicted label')\n",
    "\n",
    "\n",
    "resnet18_pretrained.eval()\n",
    "ylabel = []\n",
    "yhatlabel = []\n",
    "\n",
    "for batch_idx, (inputs, targets) in enumerate(val_loader):\n",
    "    inputs, targets = inputs.to(device), targets.to(device)\n",
    "    outputs = resnet18_pretrained(inputs)\n",
    "    _, predicted = outputs.max(1)\n",
    "    ylabel = np.concatenate((ylabel, targets.cpu().numpy()))\n",
    "    yhatlabel = np.concatenate((yhatlabel, predicted.cpu().numpy()))"
   ]
  },
  {
   "cell_type": "code",
   "execution_count": 42,
   "id": "c226a412-6de3-4a72-8aad-ef54b0892aa0",
   "metadata": {},
   "outputs": [
    {
     "name": "stdout",
     "output_type": "stream",
     "text": [
      "accuracy:0.98810\n",
      "Confusion matrix, without normalization\n",
      "Normalized confusion matrix\n"
     ]
    },
    {
     "data": {
      "image/png": "[encoded data removed]",
      "text/plain": [
       "<Figure size 1080x1080 with 2 Axes>"
      ]
     },
     "metadata": {
      "needs_background": "light"
     },
     "output_type": "display_data"
    },
    {
     "data": {
      "image/png": "[encoded data removed]",
      "text/plain": [
       "<Figure size 1080x1080 with 2 Axes>"
      ]
     },
     "metadata": {
      "needs_background": "light"
     },
     "output_type": "display_data"
    }
   ],
   "source": [
    "# Compute confusion matrix\n",
    "cnf_matrix = sklearn.metrics.confusion_matrix(ylabel, yhatlabel)\n",
    "np.set_printoptions(precision=2)\n",
    "is_correct = (ylabel == yhatlabel)\n",
    "acc = np.sum(is_correct * 1) / len(is_correct)\n",
    "print('accuracy:%.5f' %acc)\n",
    "\n",
    "classes = np.arange(18)\n",
    "\n",
    "# Plot non-normalized confusion matrix\n",
    "plt.figure(figsize=(15, 15))\n",
    "plot_confusion_matrix(cnf_matrix, classes=classes,\n",
    "                  title='Confusion matrix, without normalization')\n",
    "\n",
    "# Plot normalized confusion matrix\n",
    "plt.figure(figsize=(15, 15))\n",
    "plot_confusion_matrix(cnf_matrix, classes=classes, normalize=True,\n",
    "                  title='Normalized confusion matrix')\n",
    "\n",
    "plt.show()"
   ]
  },
  {
   "cell_type": "code",
   "execution_count": 44,
   "id": "b4a48997-f272-4b21-8f13-dead2753f39c",
   "metadata": {},
   "outputs": [
    {
     "name": "stdout",
     "output_type": "stream",
     "text": [
      "              precision    recall  f1-score   support\n",
      "\n",
      "         0.0       0.99      1.00      1.00       549\n",
      "         1.0       1.00      0.99      0.99       410\n",
      "         2.0       0.96      0.98      0.97       163\n",
      "         3.0       1.00      0.91      0.95        22\n",
      "         4.0       1.00      0.99      1.00       110\n",
      "         5.0       0.99      0.96      0.98        82\n",
      "         6.0       0.88      0.88      0.88        17\n",
      "         7.0       0.98      0.99      0.99       146\n",
      "         8.0       0.96      0.99      0.97       163\n",
      "         9.0       1.00      0.82      0.90        22\n",
      "        10.0       0.99      1.00      0.99        83\n",
      "        11.0       0.99      1.00      0.99       732\n",
      "        12.0       0.99      1.00      0.99       817\n",
      "        13.0       1.00      0.99      1.00       109\n",
      "        14.0       0.99      0.99      0.99       110\n",
      "        15.0       0.96      0.94      0.95        82\n",
      "        16.0       0.94      0.94      0.94        17\n",
      "        17.0       0.99      0.97      0.98       146\n",
      "\n",
      "    accuracy                           0.99      3780\n",
      "   macro avg       0.98      0.96      0.97      3780\n",
      "weighted avg       0.99      0.99      0.99      3780\n",
      "\n"
     ]
    }
   ],
   "source": [
    "print(sklearn.metrics.classification_report(ylabel, yhatlabel))"
   ]
  },
  {
   "cell_type": "code",
   "execution_count": 45,
   "id": "45bf6793-9887-44bf-a623-603b56ec9ab2",
   "metadata": {},
   "outputs": [
    {
     "data": {
      "text/plain": [
       "(array([ 217,  297,  311,  323,  397,  402,  410,  460,  510,  524,  584,\n",
       "         685,  727,  809,  827,  828,  845,  865,  881,  916,  939, 1081,\n",
       "        1139, 1191, 1284, 1329, 1333, 1537, 1669, 1817, 1923, 1944, 2172,\n",
       "        2239, 2290, 2310, 2543, 2642, 2854, 2929, 3089, 3236, 3247, 3383,\n",
       "        3545]),)"
      ]
     },
     "execution_count": 45,
     "metadata": {},
     "output_type": "execute_result"
    }
   ],
   "source": [
    "np.where(ylabel != yhatlabel)"
   ]
  },
  {
   "cell_type": "code",
   "execution_count": 52,
   "id": "5a7a9c37-162b-42d4-9fef-f20db333bca1",
   "metadata": {},
   "outputs": [
    {
     "name": "stdout",
     "output_type": "stream",
     "text": [
      "13\t1\t0\t0\t1\t0\t12\t1\t11\t11\t2\t14\t1\t10\t12\t1\t1\t11\t0\t11\t11\t4\t11\t7\t0\t11\t13\t10\t12\t17\t12\t1\t1\t4\t12\t1\t11\t8\t15\t11\t0\t13\t11\t17\t0\t"
     ]
    }
   ],
   "source": [
    "# storing additional info on the dataset would be needed to debug the results\n",
    "# besides, this is not valid way to track :(...\n",
    "# dataloader randomly samples the dataset\n",
    "for idx in np.where(ylabel != yhatlabel)[0]:\n",
    "    print(val_dataset[idx][1], end='\\t')"
   ]
  }
 ],
 "metadata": {
  "kernelspec": {
   "display_name": "Python 3 (ipykernel)",
   "language": "python",
   "name": "python3"
  },
  "language_info": {
   "codemirror_mode": {
    "name": "ipython",
    "version": 3
   },
   "file_extension": ".py",
   "mimetype": "text/x-python",
   "name": "python",
   "nbconvert_exporter": "python",
   "pygments_lexer": "ipython3",
   "version": "3.8.12"
  }
 },
 "nbformat": 4,
 "nbformat_minor": 5
}
