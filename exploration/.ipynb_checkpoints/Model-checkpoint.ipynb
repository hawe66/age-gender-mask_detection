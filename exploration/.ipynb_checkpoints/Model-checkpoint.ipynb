{
 "cells": [
  {
   "cell_type": "code",
   "execution_count": 14,
   "id": "efb715c8-f89e-42b0-9cde-3060076d7e36",
   "metadata": {},
   "outputs": [],
   "source": [
    "import torch.nn as nn\n",
    "import torch\n",
    "import torchvision\n",
    "import torchvision.models as models\n",
    "import numpy as np\n",
    "import matplotlib.pyplot as plt\n",
    "import torchvision.transforms.functional as F\n",
    "\n",
    "from torchsummary import summary\n",
    "from torchvision import utils"
   ]
  },
  {
   "cell_type": "markdown",
   "id": "b892fa82-936b-4c64-8783-6125b403a32d",
   "metadata": {
    "jp-MarkdownHeadingCollapsed": true,
    "jupyter": {
     "source_hidden": true
    },
    "tags": []
   },
   "source": [
    "```{javascript}\n",
    "'''\n",
    "torchvision.models.feature_extraction serves at 0.11.0 \n",
    "not the current version\n",
    "'''\n",
    "import torch\n",
    "from torchvision.models import resnet50\n",
    "from torchvision.models.feature_extraction import get_graph_node_names\n",
    "from torchvision.models.feature_extraction import create_feature_extractor\n",
    "from torchvision.models.detection.mask_rcnn import MaskRCNN\n",
    "from torchvision.models.detection.backbone_utils import LastLevelMaxPool\n",
    "from torchvision.ops.feature_pyramid_network import FeaturePyramidNetwork\n",
    "\n",
    "\n",
    "# To assist you in designing the feature extractor you may want to print out\n",
    "# the available nodes for resnet50.\n",
    "m = resnet50()\n",
    "train_nodes, eval_nodes = get_graph_node_names(resnet50())\n",
    "\n",
    "# The lists returned, are the names of all the graph nodes (in order of\n",
    "# execution) for the input model traced in train mode and in eval mode\n",
    "# respectively. You'll find that `train_nodes` and `eval_nodes` are the same\n",
    "# for this example. But if the model contains control flow that's dependent\n",
    "# on the training mode, they may be different.\n",
    "\n",
    "# To specify the nodes you want to extract, you could select the final node\n",
    "# that appears in each of the main layers:\n",
    "return_nodes = {\n",
    "    # node_name: user-specified key for output dict\n",
    "    'layer1.2.relu_2': 'layer1',\n",
    "    'layer2.3.relu_2': 'layer2',\n",
    "    'layer3.5.relu_2': 'layer3',\n",
    "    'layer4.2.relu_2': 'layer4',\n",
    "}\n",
    "\n",
    "# But `create_feature_extractor` can also accept truncated node specifications\n",
    "# like \"layer1\", as it will just pick the last node that's a descendent of\n",
    "# of the specification. (Tip: be careful with this, especially when a layer\n",
    "# has multiple outputs. It's not always guaranteed that the last operation\n",
    "# performed is the one that corresponds to the output you desire. You should\n",
    "# consult the source code for the input model to confirm.)\n",
    "return_nodes = {\n",
    "    'layer1': 'layer1',\n",
    "    'layer2': 'layer2',\n",
    "    'layer3': 'layer3',\n",
    "    'layer4': 'layer4',\n",
    "}\n",
    "\n",
    "# Now you can build the feature extractor. This returns a module whose forward\n",
    "# method returns a dictionary like:\n",
    "# {\n",
    "#     'layer1': output of layer 1,\n",
    "#     'layer2': output of layer 2,\n",
    "#     'layer3': output of layer 3,\n",
    "#     'layer4': output of layer 4,\n",
    "# }\n",
    "create_feature_extractor(m, return_nodes=return_nodes)\n",
    "\n",
    "# Let's put all that together to wrap resnet50 with MaskRCNN\n",
    "\n",
    "# MaskRCNN requires a backbone with an attached FPN\n",
    "class Resnet50WithFPN(torch.nn.Module):\n",
    "    def __init__(self):\n",
    "        super(Resnet50WithFPN, self).__init__()\n",
    "        # Get a resnet50 backbone\n",
    "        m = resnet50()\n",
    "        # Extract 4 main layers (note: MaskRCNN needs this particular name\n",
    "        # mapping for return nodes)\n",
    "        self.body = create_feature_extractor(\n",
    "            m, return_nodes={f'layer{k}': str(v)\n",
    "                             for v, k in enumerate([1, 2, 3, 4])})\n",
    "        # Dry run to get number of channels for FPN\n",
    "        inp = torch.randn(2, 3, 224, 224)\n",
    "        with torch.no_grad():\n",
    "            out = self.body(inp)\n",
    "        in_channels_list = [o.shape[1] for o in out.values()]\n",
    "        # Build FPN\n",
    "        self.out_channels = 256\n",
    "        self.fpn = FeaturePyramidNetwork(\n",
    "            in_channels_list, out_channels=self.out_channels,\n",
    "            extra_blocks=LastLevelMaxPool())\n",
    "\n",
    "    def forward(self, x):\n",
    "        x = self.body(x)\n",
    "        x = self.fpn(x)\n",
    "        return x\n",
    "\n",
    "\n",
    "# Now we can build our model!\n",
    "model = MaskRCNN(Resnet50WithFPN(), num_classes=91).eval()\n",
    "```"
   ]
  },
  {
   "cell_type": "markdown",
   "id": "368b15ce-5426-4440-885f-3e80cb33b420",
   "metadata": {},
   "source": [
    "## Pretrained Model\n",
    "https://deep-learning-study.tistory.com/category/%EC%88%98%ED%95%99/Multiple%20View%20Geometry"
   ]
  },
  {
   "cell_type": "code",
   "execution_count": 6,
   "id": "bb6626f1-50b3-4082-ab33-afb058590232",
   "metadata": {},
   "outputs": [
    {
     "name": "stderr",
     "output_type": "stream",
     "text": [
      "Downloading: \"https://download.pytorch.org/models/resnet18-5c106cde.pth\" to /opt/ml/.cache/torch/hub/checkpoints/resnet18-5c106cde.pth\n"
     ]
    },
    {
     "data": {
      "application/vnd.jupyter.widget-view+json": {
       "model_id": "ee2e8cfff9f946fb931c851c9427edc6",
       "version_major": 2,
       "version_minor": 0
      },
      "text/plain": [
       "HBox(children=(HTML(value=''), FloatProgress(value=0.0, max=46827520.0), HTML(value='')))"
      ]
     },
     "metadata": {},
     "output_type": "display_data"
    },
    {
     "name": "stdout",
     "output_type": "stream",
     "text": [
      "\n",
      "ResNet(\n",
      "  (conv1): Conv2d(3, 64, kernel_size=(7, 7), stride=(2, 2), padding=(3, 3), bias=False)\n",
      "  (bn1): BatchNorm2d(64, eps=1e-05, momentum=0.1, affine=True, track_running_stats=True)\n",
      "  (relu): ReLU(inplace=True)\n",
      "  (maxpool): MaxPool2d(kernel_size=3, stride=2, padding=1, dilation=1, ceil_mode=False)\n",
      "  (layer1): Sequential(\n",
      "    (0): BasicBlock(\n",
      "      (conv1): Conv2d(64, 64, kernel_size=(3, 3), stride=(1, 1), padding=(1, 1), bias=False)\n",
      "      (bn1): BatchNorm2d(64, eps=1e-05, momentum=0.1, affine=True, track_running_stats=True)\n",
      "      (relu): ReLU(inplace=True)\n",
      "      (conv2): Conv2d(64, 64, kernel_size=(3, 3), stride=(1, 1), padding=(1, 1), bias=False)\n",
      "      (bn2): BatchNorm2d(64, eps=1e-05, momentum=0.1, affine=True, track_running_stats=True)\n",
      "    )\n",
      "    (1): BasicBlock(\n",
      "      (conv1): Conv2d(64, 64, kernel_size=(3, 3), stride=(1, 1), padding=(1, 1), bias=False)\n",
      "      (bn1): BatchNorm2d(64, eps=1e-05, momentum=0.1, affine=True, track_running_stats=True)\n",
      "      (relu): ReLU(inplace=True)\n",
      "      (conv2): Conv2d(64, 64, kernel_size=(3, 3), stride=(1, 1), padding=(1, 1), bias=False)\n",
      "      (bn2): BatchNorm2d(64, eps=1e-05, momentum=0.1, affine=True, track_running_stats=True)\n",
      "    )\n",
      "  )\n",
      "  (layer2): Sequential(\n",
      "    (0): BasicBlock(\n",
      "      (conv1): Conv2d(64, 128, kernel_size=(3, 3), stride=(2, 2), padding=(1, 1), bias=False)\n",
      "      (bn1): BatchNorm2d(128, eps=1e-05, momentum=0.1, affine=True, track_running_stats=True)\n",
      "      (relu): ReLU(inplace=True)\n",
      "      (conv2): Conv2d(128, 128, kernel_size=(3, 3), stride=(1, 1), padding=(1, 1), bias=False)\n",
      "      (bn2): BatchNorm2d(128, eps=1e-05, momentum=0.1, affine=True, track_running_stats=True)\n",
      "      (downsample): Sequential(\n",
      "        (0): Conv2d(64, 128, kernel_size=(1, 1), stride=(2, 2), bias=False)\n",
      "        (1): BatchNorm2d(128, eps=1e-05, momentum=0.1, affine=True, track_running_stats=True)\n",
      "      )\n",
      "    )\n",
      "    (1): BasicBlock(\n",
      "      (conv1): Conv2d(128, 128, kernel_size=(3, 3), stride=(1, 1), padding=(1, 1), bias=False)\n",
      "      (bn1): BatchNorm2d(128, eps=1e-05, momentum=0.1, affine=True, track_running_stats=True)\n",
      "      (relu): ReLU(inplace=True)\n",
      "      (conv2): Conv2d(128, 128, kernel_size=(3, 3), stride=(1, 1), padding=(1, 1), bias=False)\n",
      "      (bn2): BatchNorm2d(128, eps=1e-05, momentum=0.1, affine=True, track_running_stats=True)\n",
      "    )\n",
      "  )\n",
      "  (layer3): Sequential(\n",
      "    (0): BasicBlock(\n",
      "      (conv1): Conv2d(128, 256, kernel_size=(3, 3), stride=(2, 2), padding=(1, 1), bias=False)\n",
      "      (bn1): BatchNorm2d(256, eps=1e-05, momentum=0.1, affine=True, track_running_stats=True)\n",
      "      (relu): ReLU(inplace=True)\n",
      "      (conv2): Conv2d(256, 256, kernel_size=(3, 3), stride=(1, 1), padding=(1, 1), bias=False)\n",
      "      (bn2): BatchNorm2d(256, eps=1e-05, momentum=0.1, affine=True, track_running_stats=True)\n",
      "      (downsample): Sequential(\n",
      "        (0): Conv2d(128, 256, kernel_size=(1, 1), stride=(2, 2), bias=False)\n",
      "        (1): BatchNorm2d(256, eps=1e-05, momentum=0.1, affine=True, track_running_stats=True)\n",
      "      )\n",
      "    )\n",
      "    (1): BasicBlock(\n",
      "      (conv1): Conv2d(256, 256, kernel_size=(3, 3), stride=(1, 1), padding=(1, 1), bias=False)\n",
      "      (bn1): BatchNorm2d(256, eps=1e-05, momentum=0.1, affine=True, track_running_stats=True)\n",
      "      (relu): ReLU(inplace=True)\n",
      "      (conv2): Conv2d(256, 256, kernel_size=(3, 3), stride=(1, 1), padding=(1, 1), bias=False)\n",
      "      (bn2): BatchNorm2d(256, eps=1e-05, momentum=0.1, affine=True, track_running_stats=True)\n",
      "    )\n",
      "  )\n",
      "  (layer4): Sequential(\n",
      "    (0): BasicBlock(\n",
      "      (conv1): Conv2d(256, 512, kernel_size=(3, 3), stride=(2, 2), padding=(1, 1), bias=False)\n",
      "      (bn1): BatchNorm2d(512, eps=1e-05, momentum=0.1, affine=True, track_running_stats=True)\n",
      "      (relu): ReLU(inplace=True)\n",
      "      (conv2): Conv2d(512, 512, kernel_size=(3, 3), stride=(1, 1), padding=(1, 1), bias=False)\n",
      "      (bn2): BatchNorm2d(512, eps=1e-05, momentum=0.1, affine=True, track_running_stats=True)\n",
      "      (downsample): Sequential(\n",
      "        (0): Conv2d(256, 512, kernel_size=(1, 1), stride=(2, 2), bias=False)\n",
      "        (1): BatchNorm2d(512, eps=1e-05, momentum=0.1, affine=True, track_running_stats=True)\n",
      "      )\n",
      "    )\n",
      "    (1): BasicBlock(\n",
      "      (conv1): Conv2d(512, 512, kernel_size=(3, 3), stride=(1, 1), padding=(1, 1), bias=False)\n",
      "      (bn1): BatchNorm2d(512, eps=1e-05, momentum=0.1, affine=True, track_running_stats=True)\n",
      "      (relu): ReLU(inplace=True)\n",
      "      (conv2): Conv2d(512, 512, kernel_size=(3, 3), stride=(1, 1), padding=(1, 1), bias=False)\n",
      "      (bn2): BatchNorm2d(512, eps=1e-05, momentum=0.1, affine=True, track_running_stats=True)\n",
      "    )\n",
      "  )\n",
      "  (avgpool): AdaptiveAvgPool2d(output_size=(1, 1))\n",
      "  (fc): Linear(in_features=512, out_features=1000, bias=True)\n",
      ")\n"
     ]
    }
   ],
   "source": [
    "resnet18_pretrained = models.resnet18(pretrained=True)\n",
    "\n",
    "print(resnet18_pretrained)"
   ]
  },
  {
   "cell_type": "code",
   "execution_count": 7,
   "id": "e02eded5-2bb5-46c6-bf01-11b035d6d0eb",
   "metadata": {},
   "outputs": [
    {
     "data": {
      "text/plain": [
       "512"
      ]
     },
     "execution_count": 7,
     "metadata": {},
     "output_type": "execute_result"
    }
   ],
   "source": [
    "resnet18_pretrained.fc.in_features"
   ]
  },
  {
   "cell_type": "code",
   "execution_count": 13,
   "id": "cd63a198-fc30-4767-b0c4-4bb71bf8279d",
   "metadata": {},
   "outputs": [
    {
     "name": "stdout",
     "output_type": "stream",
     "text": [
      "----------------------------------------------------------------\n",
      "        Layer (type)               Output Shape         Param #\n",
      "================================================================\n",
      "            Conv2d-1         [-1, 64, 256, 192]           9,408\n",
      "       BatchNorm2d-2         [-1, 64, 256, 192]             128\n",
      "              ReLU-3         [-1, 64, 256, 192]               0\n",
      "         MaxPool2d-4          [-1, 64, 128, 96]               0\n",
      "            Conv2d-5          [-1, 64, 128, 96]          36,864\n",
      "       BatchNorm2d-6          [-1, 64, 128, 96]             128\n",
      "              ReLU-7          [-1, 64, 128, 96]               0\n",
      "            Conv2d-8          [-1, 64, 128, 96]          36,864\n",
      "       BatchNorm2d-9          [-1, 64, 128, 96]             128\n",
      "             ReLU-10          [-1, 64, 128, 96]               0\n",
      "       BasicBlock-11          [-1, 64, 128, 96]               0\n",
      "           Conv2d-12          [-1, 64, 128, 96]          36,864\n",
      "      BatchNorm2d-13          [-1, 64, 128, 96]             128\n",
      "             ReLU-14          [-1, 64, 128, 96]               0\n",
      "           Conv2d-15          [-1, 64, 128, 96]          36,864\n",
      "      BatchNorm2d-16          [-1, 64, 128, 96]             128\n",
      "             ReLU-17          [-1, 64, 128, 96]               0\n",
      "       BasicBlock-18          [-1, 64, 128, 96]               0\n",
      "           Conv2d-19          [-1, 128, 64, 48]          73,728\n",
      "      BatchNorm2d-20          [-1, 128, 64, 48]             256\n",
      "             ReLU-21          [-1, 128, 64, 48]               0\n",
      "           Conv2d-22          [-1, 128, 64, 48]         147,456\n",
      "      BatchNorm2d-23          [-1, 128, 64, 48]             256\n",
      "           Conv2d-24          [-1, 128, 64, 48]           8,192\n",
      "      BatchNorm2d-25          [-1, 128, 64, 48]             256\n",
      "             ReLU-26          [-1, 128, 64, 48]               0\n",
      "       BasicBlock-27          [-1, 128, 64, 48]               0\n",
      "           Conv2d-28          [-1, 128, 64, 48]         147,456\n",
      "      BatchNorm2d-29          [-1, 128, 64, 48]             256\n",
      "             ReLU-30          [-1, 128, 64, 48]               0\n",
      "           Conv2d-31          [-1, 128, 64, 48]         147,456\n",
      "      BatchNorm2d-32          [-1, 128, 64, 48]             256\n",
      "             ReLU-33          [-1, 128, 64, 48]               0\n",
      "       BasicBlock-34          [-1, 128, 64, 48]               0\n",
      "           Conv2d-35          [-1, 256, 32, 24]         294,912\n",
      "      BatchNorm2d-36          [-1, 256, 32, 24]             512\n",
      "             ReLU-37          [-1, 256, 32, 24]               0\n",
      "           Conv2d-38          [-1, 256, 32, 24]         589,824\n",
      "      BatchNorm2d-39          [-1, 256, 32, 24]             512\n",
      "           Conv2d-40          [-1, 256, 32, 24]          32,768\n",
      "      BatchNorm2d-41          [-1, 256, 32, 24]             512\n",
      "             ReLU-42          [-1, 256, 32, 24]               0\n",
      "       BasicBlock-43          [-1, 256, 32, 24]               0\n",
      "           Conv2d-44          [-1, 256, 32, 24]         589,824\n",
      "      BatchNorm2d-45          [-1, 256, 32, 24]             512\n",
      "             ReLU-46          [-1, 256, 32, 24]               0\n",
      "           Conv2d-47          [-1, 256, 32, 24]         589,824\n",
      "      BatchNorm2d-48          [-1, 256, 32, 24]             512\n",
      "             ReLU-49          [-1, 256, 32, 24]               0\n",
      "       BasicBlock-50          [-1, 256, 32, 24]               0\n",
      "           Conv2d-51          [-1, 512, 16, 12]       1,179,648\n",
      "      BatchNorm2d-52          [-1, 512, 16, 12]           1,024\n",
      "             ReLU-53          [-1, 512, 16, 12]               0\n",
      "           Conv2d-54          [-1, 512, 16, 12]       2,359,296\n",
      "      BatchNorm2d-55          [-1, 512, 16, 12]           1,024\n",
      "           Conv2d-56          [-1, 512, 16, 12]         131,072\n",
      "      BatchNorm2d-57          [-1, 512, 16, 12]           1,024\n",
      "             ReLU-58          [-1, 512, 16, 12]               0\n",
      "       BasicBlock-59          [-1, 512, 16, 12]               0\n",
      "           Conv2d-60          [-1, 512, 16, 12]       2,359,296\n",
      "      BatchNorm2d-61          [-1, 512, 16, 12]           1,024\n",
      "             ReLU-62          [-1, 512, 16, 12]               0\n",
      "           Conv2d-63          [-1, 512, 16, 12]       2,359,296\n",
      "      BatchNorm2d-64          [-1, 512, 16, 12]           1,024\n",
      "             ReLU-65          [-1, 512, 16, 12]               0\n",
      "       BasicBlock-66          [-1, 512, 16, 12]               0\n",
      "AdaptiveAvgPool2d-67            [-1, 512, 1, 1]               0\n",
      "           Linear-68                 [-1, 1000]         513,000\n",
      "================================================================\n",
      "Total params: 11,689,512\n",
      "Trainable params: 11,689,512\n",
      "Non-trainable params: 0\n",
      "----------------------------------------------------------------\n",
      "Input size (MB): 2.25\n",
      "Forward/backward pass size (MB): 246.01\n",
      "Params size (MB): 44.59\n",
      "Estimated Total Size (MB): 292.85\n",
      "----------------------------------------------------------------\n"
     ]
    }
   ],
   "source": [
    "device = torch.device('cuda:0')\n",
    "resnet18_pretrained.to(device)\n",
    "\n",
    "summary(resnet18_pretrained, input_size=(3, 512, 384), device=device.type)"
   ]
  },
  {
   "cell_type": "code",
   "execution_count": 32,
   "id": "030400fc-fa53-421a-bb3c-d42b98765a8e",
   "metadata": {},
   "outputs": [
    {
     "name": "stderr",
     "output_type": "stream",
     "text": [
      "Clipping input data to the valid range for imshow with RGB data ([0..1] for floats or [0..255] for integers).\n"
     ]
    },
    {
     "name": "stdout",
     "output_type": "stream",
     "text": [
      "torch.Size([64, 3, 7, 7])\n",
      "torch.Size([3, 7, 7])\n",
      "torch.Size([3, 65, 65])\n",
      "(65, 65, 3)\n"
     ]
    },
    {
     "data": {
      "text/plain": [
       "<matplotlib.image.AxesImage at 0x7f902f6344f0>"
      ]
     },
     "execution_count": 32,
     "metadata": {},
     "output_type": "execute_result"
    },
    {
     "data": {
      "image/png": "[encoded data removed]",
      "text/plain": [
       "<Figure size 720x720 with 1 Axes>"
      ]
     },
     "metadata": {
      "needs_background": "light"
     },
     "output_type": "display_data"
    }
   ],
   "source": [
    "# visualize the filters of the first CNN layer\n",
    "for w in resnet18_pretrained.parameters():\n",
    "    w = w.data.cpu()\n",
    "    print(w.shape)\n",
    "    break\n",
    "\n",
    "# normalize weights\n",
    "min_w = torch.min(w)\n",
    "w1 = (-1/(2 * min_w)) * w + 0.5\n",
    "\n",
    "# make grid to display it\n",
    "grid_size = len(w1)\n",
    "x_grid = [w1[i] for i in range(grid_size)]\n",
    "print(x_grid[0].shape)\n",
    "x_grid = utils.make_grid(x_grid, nrow=8, padding=1)\n",
    "print(x_grid.shape)\n",
    "x_grid = x_grid.permute(1, 2, 0).numpy()\n",
    "print(x_grid.shape)\n",
    "\n",
    "plt.figure(figsize=(10, 10))\n",
    "plt.imshow(x_grid)"
   ]
  }
 ],
 "metadata": {
  "kernelspec": {
   "display_name": "Python 3 (ipykernel)",
   "language": "python",
   "name": "python3"
  },
  "language_info": {
   "codemirror_mode": {
    "name": "ipython",
    "version": 3
   },
   "file_extension": ".py",
   "mimetype": "text/x-python",
   "name": "python",
   "nbconvert_exporter": "python",
   "pygments_lexer": "ipython3",
   "version": "3.8.5"
  }
 },
 "nbformat": 4,
 "nbformat_minor": 5
}
