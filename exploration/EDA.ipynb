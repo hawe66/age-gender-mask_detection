{
 "cells": [
  {
   "cell_type": "code",
   "execution_count": 1,
   "id": "d3b12cc1-c57f-4a4f-99b2-25b77d865840",
   "metadata": {},
   "outputs": [],
   "source": [
    "%config Completer.use_jedi = False"
   ]
  },
  {
   "cell_type": "code",
   "execution_count": 2,
   "id": "52bf47d2-e69f-4b1d-b8a1-dbca3ee90570",
   "metadata": {},
   "outputs": [],
   "source": [
    "import pandas as pd\n",
    "import numpy as np\n",
    "import matplotlib as mpl\n",
    "from matplotlib import pyplot as plt\n",
    "import os"
   ]
  },
  {
   "cell_type": "code",
   "execution_count": 3,
   "id": "f9c8d0d1-457e-4ea4-8bae-bb6ac0b4bd1f",
   "metadata": {},
   "outputs": [],
   "source": [
    "# !wget https://aistages-prod-server-public.s3.amazonaws.com/app/Competitions/000102/data/train.tar.gz"
   ]
  },
  {
   "cell_type": "code",
   "execution_count": 4,
   "id": "104396d5-8b0b-4cfa-bba3-751da7476e6e",
   "metadata": {},
   "outputs": [],
   "source": [
    "# !wget https://aistages-prod-server-public.s3.amazonaws.com/app/Competitions/000102/data/code.tar.gz"
   ]
  },
  {
   "cell_type": "code",
   "execution_count": 5,
   "id": "7cfaa842-515c-4969-97cc-79ca14791146",
   "metadata": {},
   "outputs": [
    {
     "data": {
      "text/html": [
       "<div>\n",
       "<style scoped>\n",
       "    .dataframe tbody tr th:only-of-type {\n",
       "        vertical-align: middle;\n",
       "    }\n",
       "\n",
       "    .dataframe tbody tr th {\n",
       "        vertical-align: top;\n",
       "    }\n",
       "\n",
       "    .dataframe thead th {\n",
       "        text-align: right;\n",
       "    }\n",
       "</style>\n",
       "<table border=\"1\" class=\"dataframe\">\n",
       "  <thead>\n",
       "    <tr style=\"text-align: right;\">\n",
       "      <th></th>\n",
       "      <th>id</th>\n",
       "      <th>gender</th>\n",
       "      <th>race</th>\n",
       "      <th>age</th>\n",
       "      <th>path</th>\n",
       "    </tr>\n",
       "  </thead>\n",
       "  <tbody>\n",
       "    <tr>\n",
       "      <th>1886</th>\n",
       "      <td>004389</td>\n",
       "      <td>female</td>\n",
       "      <td>Asian</td>\n",
       "      <td>36</td>\n",
       "      <td>004389_female_Asian_36</td>\n",
       "    </tr>\n",
       "    <tr>\n",
       "      <th>260</th>\n",
       "      <td>000665</td>\n",
       "      <td>female</td>\n",
       "      <td>Asian</td>\n",
       "      <td>54</td>\n",
       "      <td>000665_female_Asian_54</td>\n",
       "    </tr>\n",
       "    <tr>\n",
       "      <th>2512</th>\n",
       "      <td>006496</td>\n",
       "      <td>female</td>\n",
       "      <td>Asian</td>\n",
       "      <td>18</td>\n",
       "      <td>006496_female_Asian_18</td>\n",
       "    </tr>\n",
       "    <tr>\n",
       "      <th>361</th>\n",
       "      <td>000812</td>\n",
       "      <td>male</td>\n",
       "      <td>Asian</td>\n",
       "      <td>55</td>\n",
       "      <td>000812_male_Asian_55</td>\n",
       "    </tr>\n",
       "    <tr>\n",
       "      <th>1136</th>\n",
       "      <td>003081</td>\n",
       "      <td>female</td>\n",
       "      <td>Asian</td>\n",
       "      <td>20</td>\n",
       "      <td>003081_female_Asian_20</td>\n",
       "    </tr>\n",
       "    <tr>\n",
       "      <th>406</th>\n",
       "      <td>001029</td>\n",
       "      <td>male</td>\n",
       "      <td>Asian</td>\n",
       "      <td>59</td>\n",
       "      <td>001029_male_Asian_59</td>\n",
       "    </tr>\n",
       "    <tr>\n",
       "      <th>488</th>\n",
       "      <td>001116</td>\n",
       "      <td>female</td>\n",
       "      <td>Asian</td>\n",
       "      <td>25</td>\n",
       "      <td>001116_female_Asian_25</td>\n",
       "    </tr>\n",
       "    <tr>\n",
       "      <th>1535</th>\n",
       "      <td>003652</td>\n",
       "      <td>male</td>\n",
       "      <td>Asian</td>\n",
       "      <td>56</td>\n",
       "      <td>003652_male_Asian_56</td>\n",
       "    </tr>\n",
       "    <tr>\n",
       "      <th>567</th>\n",
       "      <td>001197</td>\n",
       "      <td>male</td>\n",
       "      <td>Asian</td>\n",
       "      <td>25</td>\n",
       "      <td>001197_male_Asian_25</td>\n",
       "    </tr>\n",
       "    <tr>\n",
       "      <th>1864</th>\n",
       "      <td>004355</td>\n",
       "      <td>female</td>\n",
       "      <td>Asian</td>\n",
       "      <td>51</td>\n",
       "      <td>004355_female_Asian_51</td>\n",
       "    </tr>\n",
       "  </tbody>\n",
       "</table>\n",
       "</div>"
      ],
      "text/plain": [
       "          id  gender   race  age                    path\n",
       "1886  004389  female  Asian   36  004389_female_Asian_36\n",
       "260   000665  female  Asian   54  000665_female_Asian_54\n",
       "2512  006496  female  Asian   18  006496_female_Asian_18\n",
       "361   000812    male  Asian   55    000812_male_Asian_55\n",
       "1136  003081  female  Asian   20  003081_female_Asian_20\n",
       "406   001029    male  Asian   59    001029_male_Asian_59\n",
       "488   001116  female  Asian   25  001116_female_Asian_25\n",
       "1535  003652    male  Asian   56    003652_male_Asian_56\n",
       "567   001197    male  Asian   25    001197_male_Asian_25\n",
       "1864  004355  female  Asian   51  004355_female_Asian_51"
      ]
     },
     "execution_count": 5,
     "metadata": {},
     "output_type": "execute_result"
    }
   ],
   "source": [
    "data_train_path = '/opt/ml/input/data/train'\n",
    "\n",
    "image_path = os.path.join(data_train_path, 'images')\n",
    "\n",
    "df_train = pd.read_csv(os.path.join(data_train_path, 'train.csv'))\n",
    "df_train.sample(10)"
   ]
  },
  {
   "cell_type": "code",
   "execution_count": 6,
   "id": "2a07c018-3868-4ae4-a7d3-f25960253299",
   "metadata": {},
   "outputs": [
    {
     "data": {
      "text/html": [
       "<div>\n",
       "<style scoped>\n",
       "    .dataframe tbody tr th:only-of-type {\n",
       "        vertical-align: middle;\n",
       "    }\n",
       "\n",
       "    .dataframe tbody tr th {\n",
       "        vertical-align: top;\n",
       "    }\n",
       "\n",
       "    .dataframe thead th {\n",
       "        text-align: right;\n",
       "    }\n",
       "</style>\n",
       "<table border=\"1\" class=\"dataframe\">\n",
       "  <thead>\n",
       "    <tr style=\"text-align: right;\">\n",
       "      <th></th>\n",
       "      <th>id</th>\n",
       "      <th>gender</th>\n",
       "      <th>race</th>\n",
       "      <th>age</th>\n",
       "      <th>path</th>\n",
       "    </tr>\n",
       "  </thead>\n",
       "  <tbody>\n",
       "    <tr>\n",
       "      <th>0</th>\n",
       "      <td>000001</td>\n",
       "      <td>female</td>\n",
       "      <td>Asian</td>\n",
       "      <td>45</td>\n",
       "      <td>000001_female_Asian_45</td>\n",
       "    </tr>\n",
       "    <tr>\n",
       "      <th>1</th>\n",
       "      <td>000002</td>\n",
       "      <td>female</td>\n",
       "      <td>Asian</td>\n",
       "      <td>52</td>\n",
       "      <td>000002_female_Asian_52</td>\n",
       "    </tr>\n",
       "    <tr>\n",
       "      <th>2</th>\n",
       "      <td>000004</td>\n",
       "      <td>male</td>\n",
       "      <td>Asian</td>\n",
       "      <td>54</td>\n",
       "      <td>000004_male_Asian_54</td>\n",
       "    </tr>\n",
       "    <tr>\n",
       "      <th>3</th>\n",
       "      <td>000005</td>\n",
       "      <td>female</td>\n",
       "      <td>Asian</td>\n",
       "      <td>58</td>\n",
       "      <td>000005_female_Asian_58</td>\n",
       "    </tr>\n",
       "    <tr>\n",
       "      <th>4</th>\n",
       "      <td>000006</td>\n",
       "      <td>female</td>\n",
       "      <td>Asian</td>\n",
       "      <td>59</td>\n",
       "      <td>000006_female_Asian_59</td>\n",
       "    </tr>\n",
       "  </tbody>\n",
       "</table>\n",
       "</div>"
      ],
      "text/plain": [
       "       id  gender   race  age                    path\n",
       "0  000001  female  Asian   45  000001_female_Asian_45\n",
       "1  000002  female  Asian   52  000002_female_Asian_52\n",
       "2  000004    male  Asian   54    000004_male_Asian_54\n",
       "3  000005  female  Asian   58  000005_female_Asian_58\n",
       "4  000006  female  Asian   59  000006_female_Asian_59"
      ]
     },
     "execution_count": 6,
     "metadata": {},
     "output_type": "execute_result"
    }
   ],
   "source": [
    "df_train.head()"
   ]
  },
  {
   "cell_type": "code",
   "execution_count": 7,
   "id": "9bab87f4-61f8-4e35-89da-53afeb06faf5",
   "metadata": {},
   "outputs": [
    {
     "name": "stdout",
     "output_type": "stream",
     "text": [
      "<class 'pandas.core.frame.DataFrame'>\n",
      "RangeIndex: 2700 entries, 0 to 2699\n",
      "Data columns (total 5 columns):\n",
      " #   Column  Non-Null Count  Dtype \n",
      "---  ------  --------------  ----- \n",
      " 0   id      2700 non-null   object\n",
      " 1   gender  2700 non-null   object\n",
      " 2   race    2700 non-null   object\n",
      " 3   age     2700 non-null   int64 \n",
      " 4   path    2700 non-null   object\n",
      "dtypes: int64(1), object(4)\n",
      "memory usage: 105.6+ KB\n"
     ]
    }
   ],
   "source": [
    "df_train.info()"
   ]
  },
  {
   "cell_type": "code",
   "execution_count": 8,
   "id": "100dda71-f9a3-49e6-911e-b71d450f79ef",
   "metadata": {},
   "outputs": [
    {
     "data": {
      "text/html": [
       "<div>\n",
       "<style scoped>\n",
       "    .dataframe tbody tr th:only-of-type {\n",
       "        vertical-align: middle;\n",
       "    }\n",
       "\n",
       "    .dataframe tbody tr th {\n",
       "        vertical-align: top;\n",
       "    }\n",
       "\n",
       "    .dataframe thead th {\n",
       "        text-align: right;\n",
       "    }\n",
       "</style>\n",
       "<table border=\"1\" class=\"dataframe\">\n",
       "  <thead>\n",
       "    <tr style=\"text-align: right;\">\n",
       "      <th></th>\n",
       "      <th>id</th>\n",
       "      <th>gender</th>\n",
       "      <th>race</th>\n",
       "      <th>age</th>\n",
       "      <th>path</th>\n",
       "    </tr>\n",
       "  </thead>\n",
       "  <tbody>\n",
       "    <tr>\n",
       "      <th>count</th>\n",
       "      <td>2700</td>\n",
       "      <td>2700</td>\n",
       "      <td>2700</td>\n",
       "      <td>2700.000000</td>\n",
       "      <td>2700</td>\n",
       "    </tr>\n",
       "    <tr>\n",
       "      <th>unique</th>\n",
       "      <td>2699</td>\n",
       "      <td>2</td>\n",
       "      <td>1</td>\n",
       "      <td>NaN</td>\n",
       "      <td>2700</td>\n",
       "    </tr>\n",
       "    <tr>\n",
       "      <th>top</th>\n",
       "      <td>003397</td>\n",
       "      <td>female</td>\n",
       "      <td>Asian</td>\n",
       "      <td>NaN</td>\n",
       "      <td>006522_female_Asian_19</td>\n",
       "    </tr>\n",
       "    <tr>\n",
       "      <th>freq</th>\n",
       "      <td>2</td>\n",
       "      <td>1658</td>\n",
       "      <td>2700</td>\n",
       "      <td>NaN</td>\n",
       "      <td>1</td>\n",
       "    </tr>\n",
       "    <tr>\n",
       "      <th>mean</th>\n",
       "      <td>NaN</td>\n",
       "      <td>NaN</td>\n",
       "      <td>NaN</td>\n",
       "      <td>37.708148</td>\n",
       "      <td>NaN</td>\n",
       "    </tr>\n",
       "    <tr>\n",
       "      <th>std</th>\n",
       "      <td>NaN</td>\n",
       "      <td>NaN</td>\n",
       "      <td>NaN</td>\n",
       "      <td>16.985904</td>\n",
       "      <td>NaN</td>\n",
       "    </tr>\n",
       "    <tr>\n",
       "      <th>min</th>\n",
       "      <td>NaN</td>\n",
       "      <td>NaN</td>\n",
       "      <td>NaN</td>\n",
       "      <td>18.000000</td>\n",
       "      <td>NaN</td>\n",
       "    </tr>\n",
       "    <tr>\n",
       "      <th>25%</th>\n",
       "      <td>NaN</td>\n",
       "      <td>NaN</td>\n",
       "      <td>NaN</td>\n",
       "      <td>20.000000</td>\n",
       "      <td>NaN</td>\n",
       "    </tr>\n",
       "    <tr>\n",
       "      <th>50%</th>\n",
       "      <td>NaN</td>\n",
       "      <td>NaN</td>\n",
       "      <td>NaN</td>\n",
       "      <td>36.000000</td>\n",
       "      <td>NaN</td>\n",
       "    </tr>\n",
       "    <tr>\n",
       "      <th>75%</th>\n",
       "      <td>NaN</td>\n",
       "      <td>NaN</td>\n",
       "      <td>NaN</td>\n",
       "      <td>55.000000</td>\n",
       "      <td>NaN</td>\n",
       "    </tr>\n",
       "    <tr>\n",
       "      <th>max</th>\n",
       "      <td>NaN</td>\n",
       "      <td>NaN</td>\n",
       "      <td>NaN</td>\n",
       "      <td>60.000000</td>\n",
       "      <td>NaN</td>\n",
       "    </tr>\n",
       "  </tbody>\n",
       "</table>\n",
       "</div>"
      ],
      "text/plain": [
       "            id  gender   race          age                    path\n",
       "count     2700    2700   2700  2700.000000                    2700\n",
       "unique    2699       2      1          NaN                    2700\n",
       "top     003397  female  Asian          NaN  006522_female_Asian_19\n",
       "freq         2    1658   2700          NaN                       1\n",
       "mean       NaN     NaN    NaN    37.708148                     NaN\n",
       "std        NaN     NaN    NaN    16.985904                     NaN\n",
       "min        NaN     NaN    NaN    18.000000                     NaN\n",
       "25%        NaN     NaN    NaN    20.000000                     NaN\n",
       "50%        NaN     NaN    NaN    36.000000                     NaN\n",
       "75%        NaN     NaN    NaN    55.000000                     NaN\n",
       "max        NaN     NaN    NaN    60.000000                     NaN"
      ]
     },
     "execution_count": 8,
     "metadata": {},
     "output_type": "execute_result"
    }
   ],
   "source": [
    "df_train.describe(include='all')"
   ]
  },
  {
   "cell_type": "code",
   "execution_count": 9,
   "id": "0b431a96-e308-4949-88d1-e1c149ba25bf",
   "metadata": {},
   "outputs": [
    {
     "data": {
      "text/plain": [
       "gender  age\n",
       "female  18     151\n",
       "        19     200\n",
       "        20     187\n",
       "        21      14\n",
       "        22      21\n",
       "              ... \n",
       "male    56      47\n",
       "        57      37\n",
       "        58      50\n",
       "        59      46\n",
       "        60      83\n",
       "Name: age, Length: 84, dtype: int64"
      ]
     },
     "metadata": {},
     "output_type": "display_data"
    },
    {
     "name": "stdout",
     "output_type": "stream",
     "text": [
      "female    1658\n",
      "male      1042\n",
      "Name: gender, dtype: int64\n"
     ]
    }
   ],
   "source": [
    "group = df_train.groupby('gender')['age'].value_counts().sort_index()\n",
    "display(group)\n",
    "print(df_train['gender'].value_counts())"
   ]
  },
  {
   "cell_type": "code",
   "execution_count": 10,
   "id": "9ae9592e-f67e-4058-bc86-96a74138f8b2",
   "metadata": {},
   "outputs": [
    {
     "data": {
      "image/png": "[encoded data removed]",
      "text/plain": [
       "<Figure size 1080x504 with 2 Axes>"
      ]
     },
     "metadata": {
      "needs_background": "light"
     },
     "output_type": "display_data"
    }
   ],
   "source": [
    "fig, axes = plt.subplots(1, 2, figsize=(15, 7))\n",
    "axes[0].bar(group['male'].index, group['male'], color='royalblue')\n",
    "axes[1].bar(group['female'].index, group['female'], color='tomato')\n",
    "plt.show()\n",
    "plt.savefig('age_distribution.png')"
   ]
  },
  {
   "cell_type": "code",
   "execution_count": 11,
   "id": "3f575b64-960a-41fd-9441-b0f1d5c90cf6",
   "metadata": {},
   "outputs": [
    {
     "name": "stdout",
     "output_type": "stream",
     "text": [
      "number of age < 30 \t:  1281\n",
      "number of age >= 60 \t:  192\n",
      "total number \t\t:  2700\n",
      "proportion of age < 30  :  0.47444444444444445\n",
      "proportion of age >= 60 :  0.07111111111111111\n"
     ]
    }
   ],
   "source": [
    "print('number of age < 30 \\t: ', (np.where(df_train['age'] < 30)[0]).shape[0])\n",
    "print('number of age >= 60 \\t: ', (np.where(df_train['age'] >= 60)[0]).shape[0])\n",
    "print('total number \\t\\t: ', len(df_train['age']))\n",
    "print('proportion of age < 30  : ', (np.where(df_train['age'] < 30)[0]).shape[0] / len(df_train['age']))\n",
    "print('proportion of age >= 60 : ', (np.where(df_train['age'] >= 60)[0]).shape[0] / len(df_train['age']))"
   ]
  },
  {
   "cell_type": "code",
   "execution_count": 12,
   "id": "56f9a85b-ee76-4a30-8c6d-1a6023201426",
   "metadata": {},
   "outputs": [],
   "source": [
    "# 47% of people are age under 30 \n",
    "# 7% of people are age 60 (not over)\n",
    "## Note that they would hardly be differentiated with age around 50~60 !!!!"
   ]
  },
  {
   "cell_type": "code",
   "execution_count": 13,
   "id": "949f7174-36f2-4e76-83e3-6f825bfdae89",
   "metadata": {},
   "outputs": [
    {
     "data": {
      "text/plain": [
       "(gender     female       male\n",
       " age     38.528347  36.403071,\n",
       " gender     female       male\n",
       " age     16.888379  17.066934)"
      ]
     },
     "execution_count": 13,
     "metadata": {},
     "output_type": "execute_result"
    }
   ],
   "source": [
    "score_mean = df_train.groupby('gender').mean().T\n",
    "score_std = df_train.groupby('gender').std().T\n",
    "score_mean, score_std"
   ]
  },
  {
   "cell_type": "code",
   "execution_count": 15,
   "id": "3150a136-d7e9-4857-abf7-c2dbd1e79ab1",
   "metadata": {},
   "outputs": [],
   "source": [
    "import glob"
   ]
  },
  {
   "cell_type": "code",
   "execution_count": 18,
   "id": "c61a4c0f-ac20-4963-ba15-4b5940bfa00a",
   "metadata": {},
   "outputs": [],
   "source": [
    "img_paths = glob.glob(image_path+'/00*')"
   ]
  },
  {
   "cell_type": "code",
   "execution_count": 19,
   "id": "938a8ba1-c30b-4220-848b-6385d8d02739",
   "metadata": {},
   "outputs": [
    {
     "data": {
      "text/plain": [
       "'./input/data/train/images/003786_female_Asian_45'"
      ]
     },
     "execution_count": 19,
     "metadata": {},
     "output_type": "execute_result"
    }
   ],
   "source": [
    "img_paths[0]"
   ]
  },
  {
   "cell_type": "code",
   "execution_count": 32,
   "id": "925aad84-161b-41cb-84e8-d31e72279838",
   "metadata": {},
   "outputs": [
    {
     "data": {
      "text/plain": [
       "['./input/data/train/images/003287_female_Asian_19/mask2.jpg',\n",
       " './input/data/train/images/003287_female_Asian_19/incorrect_mask.jpg',\n",
       " './input/data/train/images/003287_female_Asian_19/normal.jpg',\n",
       " './input/data/train/images/003287_female_Asian_19/mask4.jpg',\n",
       " './input/data/train/images/003287_female_Asian_19/mask5.jpg',\n",
       " './input/data/train/images/003287_female_Asian_19/mask1.jpg',\n",
       " './input/data/train/images/003287_female_Asian_19/mask3.jpg']"
      ]
     },
     "execution_count": 32,
     "metadata": {},
     "output_type": "execute_result"
    }
   ],
   "source": [
    "imgs = glob.glob(img_paths[4] + '/*')\n",
    "imgs"
   ]
  },
  {
   "cell_type": "code",
   "execution_count": 33,
   "id": "efd038d2-92b2-4e58-b118-2bd826f45be5",
   "metadata": {},
   "outputs": [
    {
     "data": {
      "text/plain": [
       "['mask2.jpg',\n",
       " '._normal.jpg',\n",
       " '._mask3.jpg',\n",
       " '._mask1.jpg',\n",
       " 'incorrect_mask.jpg',\n",
       " '._mask5.jpg',\n",
       " 'normal.jpg',\n",
       " 'mask4.jpg',\n",
       " '._mask2.jpg',\n",
       " 'mask5.jpg',\n",
       " '._incorrect_mask.jpg',\n",
       " '._mask4.jpg',\n",
       " 'mask1.jpg',\n",
       " 'mask3.jpg']"
      ]
     },
     "execution_count": 33,
     "metadata": {},
     "output_type": "execute_result"
    }
   ],
   "source": [
    "os.listdir(img_paths[0])"
   ]
  },
  {
   "cell_type": "code",
   "execution_count": 27,
   "id": "239d27ea-5a3d-4493-863f-3bfecc3b1326",
   "metadata": {},
   "outputs": [
    {
     "name": "stdout",
     "output_type": "stream",
     "text": [
      "(512, 384, 3)\n"
     ]
    }
   ],
   "source": [
    "from PIL import Image\n",
    "img = Image.open(imgs[0])\n",
    "imgArray = np.array(img)\n",
    "print(imgArray.shape)"
   ]
  },
  {
   "cell_type": "code",
   "execution_count": 24,
   "id": "18bf3d8f-344c-413e-bb61-8461e273459d",
   "metadata": {},
   "outputs": [],
   "source": [
    "import torch \n",
    "from torchvision import datasets, transforms \n",
    "from torch.utils.data.dataset import Dataset \n",
    "from tqdm.notebook import tqdm \n",
    "from time import time"
   ]
  },
  {
   "cell_type": "code",
   "execution_count": null,
   "id": "5a1e546d-f4da-47a4-b7fd-ebccea68450f",
   "metadata": {},
   "outputs": [],
   "source": [
    "N_CHANNELS = 3\n",
    "\n",
    "before = time() \n",
    "\n",
    "mean = torch.zeros(1) \n",
    "std = torch.zeros(1) \n",
    "\n",
    "print('==> Computing mean and std..') \n",
    "\n",
    "for inputs, _labels in tqdm(full_loader): \n",
    "    for i in range(N_CHANNELS): \n",
    "        mean[i] += inputs[:,i,:,:].mean() \n",
    "        std[i] += inputs[:,i,:,:].std() \n",
    "        mean.div_(len(dataset)) \n",
    "        std.div_(len(dataset)) \n",
    "        \n",
    "print(mean, std) \n",
    "print(\"time elapsed: \", time()-before)\n",
    "\n",
    "# 출처: https://eehoeskrap.tistory.com/463 [Enough is not enough]"
   ]
  }
 ],
 "metadata": {
  "kernelspec": {
   "display_name": "Python 3 (ipykernel)",
   "language": "python",
   "name": "python3"
  },
  "language_info": {
   "codemirror_mode": {
    "name": "ipython",
    "version": 3
   },
   "file_extension": ".py",
   "mimetype": "text/x-python",
   "name": "python",
   "nbconvert_exporter": "python",
   "pygments_lexer": "ipython3",
   "version": "3.8.12"
  }
 },
 "nbformat": 4,
 "nbformat_minor": 5
}
