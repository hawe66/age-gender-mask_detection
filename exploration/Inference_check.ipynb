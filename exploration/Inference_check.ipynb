{
 "cells": [
  {
   "cell_type": "markdown",
   "id": "about-heavy",
   "metadata": {},
   "source": [
    "# Libarary & Path settings"
   ]
  },
  {
   "cell_type": "code",
   "execution_count": null,
   "id": "cubic-scoop",
   "metadata": {},
   "outputs": [],
   "source": [
    "import os\n",
    "import pandas as pd\n",
    "from PIL import Image\n",
    "\n",
    "import torch\n",
    "import torch.nn as nn\n",
    "import torch.optim as optim\n",
    "import torch.nn.functional as F\n",
    "from torch.utils.data import Dataset, DataLoader\n",
    "\n",
    "import matplotlib.pyplot as plt\n",
    "import numpy as np\n",
    "\n",
    "import torchvision\n",
    "from torchvision import transforms, models\n",
    "from torchvision.transforms import Resize, ToTensor, Normalize\n",
    "\n",
    "import pprint\n",
    "\n",
    "device = torch.device('cuda:0' if torch.cuda.is_available() else 'cpu')"
   ]
  },
  {
   "cell_type": "code",
   "execution_count": null,
   "id": "built-elevation",
   "metadata": {},
   "outputs": [],
   "source": [
    "# 테스트 데이터셋 폴더 경로를 지정해주세요.\n",
    "test_dir = '/opt/ml/input/data/eval'"
   ]
  },
  {
   "cell_type": "code",
   "execution_count": null,
   "id": "e4fd0f36-7124-4706-b1f4-c04f168b0ad5",
   "metadata": {},
   "outputs": [],
   "source": [
    "!pip install torchvision==0.11.3"
   ]
  },
  {
   "cell_type": "code",
   "execution_count": null,
   "id": "714a6924-a06c-431c-aeb6-cc83644f3c60",
   "metadata": {},
   "outputs": [],
   "source": [
    "!gpustat -i"
   ]
  },
  {
   "cell_type": "markdown",
   "id": "continued-feelings",
   "metadata": {},
   "source": [
    "# Inference validation  \n",
    "sample random images from the test set with predicted labels"
   ]
  },
  {
   "cell_type": "code",
   "execution_count": null,
   "id": "695f3ebd-7aaf-4f7d-95c7-ebd5568b361c",
   "metadata": {},
   "outputs": [],
   "source": [
    "# 이미지 확인\n",
    "import matplotlib.image as img\n",
    "import random\n",
    "submission = pd.read_csv('/opt/ml/SpecialMission/exploration/output22.csv') # 여기에 csv파일 링크 입력\n",
    "image_dir = os.path.join(test_dir, 'images')\n",
    "samples = random.sample(range(0, 12600), 25)\n",
    "fig, axes = plt.subplots(5, 5, figsize=(16, 16))\n",
    "mask = [\"Wear\", \"Incorrect\", \"Not wear\"]\n",
    "Gender = [\"Male\", \"Female\"]\n",
    "Age = [\"<30\", \"30<= <60\", \"60<=\"]\n",
    "for i, ax in enumerate(axes.flatten()):\n",
    "    c = submission.iloc[samples[i]].ans\n",
    "    title = mask[int(c/6)] + \" \" + Gender[int((c%6)/3)] + \" \" +Age[(c%6)%3]\n",
    "    ax.set_title(title)\n",
    "    ax.axis('off')\n",
    "    im = img.imread(image_dir + \"/\" +submission.iloc[samples[i]].ImageID)\n",
    "    ax.imshow(im)"
   ]
  },
  {
   "cell_type": "code",
   "execution_count": null,
   "id": "bc78a4b7-9be2-4bdd-9c47-9fdad48c0839",
   "metadata": {},
   "outputs": [],
   "source": [
    "s1 = submission.set_index('ImageID')\n",
    "# 출처: https://rfriend.tistory.com/256 [R, Python 분석과 프로그래밍의 친구 (by R Friend)]"
   ]
  },
  {
   "cell_type": "code",
   "execution_count": null,
   "id": "255e291e-6e54-486c-9e8f-2147a8307ca2",
   "metadata": {},
   "outputs": [],
   "source": [
    "s2 = pd.read_csv('/opt/ml/output/output_aug_true.csv').set_index('ImageID')\n",
    "s3 = pd.read_csv('/opt/ml/output/output_aug_true2.csv').set_index('ImageID')\n",
    "s4 = pd.read_csv('/opt/ml/output/output_aug_false.csv').set_index('ImageID')\n",
    "s5 = pd.read_csv('/opt/ml/output/output_aug_false2.csv').set_index('ImageID')"
   ]
  },
  {
   "cell_type": "code",
   "execution_count": null,
   "id": "ab0e44ed-0ae3-487f-81c8-c3a24286afec",
   "metadata": {},
   "outputs": [],
   "source": [
    "df = pd.concat([s1,s2,s3,s4,s5], axis=1)\n",
    "df"
   ]
  },
  {
   "cell_type": "code",
   "execution_count": null,
   "id": "59574e4a-cb9e-43e1-a43c-98ec136eef0c",
   "metadata": {},
   "outputs": [],
   "source": [
    "df_count = df.apply(lambda x: x.value_counts(), axis=1).fillna(0).astype(int)"
   ]
  },
  {
   "cell_type": "code",
   "execution_count": null,
   "id": "33d57208-005e-40b0-8e7d-518be7b2e096",
   "metadata": {},
   "outputs": [],
   "source": [
    "df_voted = ranked[17].reset_index()"
   ]
  },
  {
   "cell_type": "code",
   "execution_count": null,
   "id": "329497a8-c9d5-463e-81b2-f482bcf9b438",
   "metadata": {},
   "outputs": [],
   "source": [
    "df_voted.rename(columns = {17 : 'ans'}, inplace = True)"
   ]
  },
  {
   "cell_type": "code",
   "execution_count": null,
   "id": "3819a83a-bede-4161-8d03-caacc2a21586",
   "metadata": {},
   "outputs": [],
   "source": [
    "df_voted.to_csv('output22.csv', index=False)"
   ]
  }
 ],
 "metadata": {
  "kernelspec": {
   "display_name": "Python 3 (ipykernel)",
   "language": "python",
   "name": "python3"
  },
  "language_info": {
   "codemirror_mode": {
    "name": "ipython",
    "version": 3
   },
   "file_extension": ".py",
   "mimetype": "text/x-python",
   "name": "python",
   "nbconvert_exporter": "python",
   "pygments_lexer": "ipython3",
   "version": "3.8.12"
  }
 },
 "nbformat": 4,
 "nbformat_minor": 5
}
