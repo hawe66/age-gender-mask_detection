{
 "cells": [
  {
   "cell_type": "code",
   "execution_count": null,
   "id": "3407490c-905b-4d4d-95b1-87b0fd8e8f5e",
   "metadata": {},
   "outputs": [],
   "source": [
    "from keras.utils.data_utils import get_file\n",
    "from keras.applications.resnet50 import ResNet50\n",
    "from keras.models import Model\n",
    "from keras.layers import Dense\n",
    "from keras import backend as K"
   ]
  },
  {
   "cell_type": "code",
   "execution_count": null,
   "id": "23670e4e-217f-48a7-8618-3a38919fbb4f",
   "metadata": {},
   "outputs": [],
   "source": [
    "pretrained_model = \"https://github.com/yu4u/age-gender-estimation/releases/download/v0.5/age_only_resnet50_weights.061-3.300-4.410.hdf5\"\n",
    "modhash = \"306e44200d3f632a5dccac153c2966f2\"\n",
    "weight_file = get_file(\"age_only_resnet50_weights.061-3.300-4.410.hdf5\", pretrained_model,\n",
    "               cache_subdir=\"pretrained_models\", file_hash=modhash, cache_dir=\"/opt/ml/pretrained\")\n",
    "\n",
    "base_model = ResNet50(include_top=False, weights='imagenet', input_shape=(224, 224, 3), pooling=\"avg\")\n",
    "prediction = Dense(units=101, kernel_initializer=\"he_normal\", use_bias=False, activation=\"softmax\",\n",
    "                       name=\"pred_age\")(base_model.output)\n",
    "model_tf = Model(inputs=base_model.input, outputs=prediction)\n",
    "model_tf.load_weights(weight_file)\n",
    "model_tf.summary()"
   ]
  },
  {
   "cell_type": "code",
   "execution_count": null,
   "id": "306ecc23-2d91-4fd7-9e15-0b69fd642f75",
   "metadata": {},
   "outputs": [],
   "source": [
    "import torch\n",
    "import torch.nn as nn\n",
    "from torchvision.models import resnet50\n",
    "import numpy as np"
   ]
  },
  {
   "cell_type": "code",
   "execution_count": null,
   "id": "bd436d88-1fca-4a98-8b46-8fdcfdf07c12",
   "metadata": {},
   "outputs": [],
   "source": [
    "from nn_transfer.nn_transfer import transfer, util\n",
    "from pathlib import Path"
   ]
  },
  {
   "cell_type": "code",
   "execution_count": null,
   "id": "99407a39-5729-40fd-a2f0-739418dbc166",
   "metadata": {},
   "outputs": [],
   "source": [
    "model = resnet50(pretrained = False)\n",
    "model = nn.Sequential(*list(model.modules())[:-1])"
   ]
  },
  {
   "cell_type": "code",
   "execution_count": null,
   "id": "e37d50a6-ccf3-48a8-8136-2a48cc518beb",
   "metadata": {},
   "outputs": [],
   "source": [
    "transfer.keras_to_pytorch(base_model, my_model)"
   ]
  },
  {
   "cell_type": "code",
   "execution_count": null,
   "id": "56e040c9-2da8-41a2-a05c-72cf52f3c23d",
   "metadata": {},
   "outputs": [],
   "source": [
    "with torch.no_grad():\n",
    "    for name, param in model.named_parameters():\n",
    "        print('==========================================================================')\n",
    "        print(name, param.shape)\n",
    "        print('==========================================================================9')\n",
    "        while int(input())!=99:\n",
    "            a = int(input())\n",
    "            print('\\t',names[a], weights[a].shape)\n",
    "            if int(input())==88:\n",
    "                model.state_dict()[name].copy_(torch.from_numpy(np.transpose(weights[a])))"
   ]
  },
  {
   "cell_type": "code",
   "execution_count": null,
   "id": "33cf2a48-22bd-4fcb-8497-43a047cadf9a",
   "metadata": {},
   "outputs": [],
   "source": [
    "torch.save(model.state_dict(), f\"age_pretrained.pth\")"
   ]
  }
 ],
 "metadata": {
  "kernelspec": {
   "display_name": "Python 3 (ipykernel)",
   "language": "python",
   "name": "python3"
  },
  "language_info": {
   "codemirror_mode": {
    "name": "ipython",
    "version": 3
   },
   "file_extension": ".py",
   "mimetype": "text/x-python",
   "name": "python",
   "nbconvert_exporter": "python",
   "pygments_lexer": "ipython3",
   "version": "3.8.12"
  }
 },
 "nbformat": 4,
 "nbformat_minor": 5
}
